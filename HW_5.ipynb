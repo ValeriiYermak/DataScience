{
  "nbformat": 4,
  "nbformat_minor": 0,
  "metadata": {
    "colab": {
      "provenance": [],
      "include_colab_link": true
    },
    "kernelspec": {
      "name": "python3",
      "display_name": "Python 3"
    },
    "language_info": {
      "name": "python"
    }
  },
  "cells": [
    {
      "cell_type": "markdown",
      "metadata": {
        "id": "view-in-github",
        "colab_type": "text"
      },
      "source": [
        "<a href=\"https://colab.research.google.com/github/ValeriiYermak/DataScience/blob/main/HW_5.ipynb\" target=\"_parent\"><img src=\"https://colab.research.google.com/assets/colab-badge.svg\" alt=\"Open In Colab\"/></a>"
      ]
    },
    {
      "cell_type": "code",
      "execution_count": 1,
      "metadata": {
        "id": "eKWTwmzeGrbv",
        "colab": {
          "base_uri": "https://localhost:8080/"
        },
        "outputId": "b038343e-5c54-47cd-913a-80b19f2783e8"
      },
      "outputs": [
        {
          "output_type": "stream",
          "name": "stdout",
          "text": [
            "Mounted at /content/drive\n"
          ]
        }
      ],
      "source": [
        "import os\n",
        "import pandas as pd\n",
        "import numpy as np\n",
        "import time\n",
        "\n",
        "from sklearn.model_selection import train_test_split\n",
        "from sklearn.svm import SVC\n",
        "from  sklearn.ensemble import RandomForestClassifier\n",
        "\n",
        "from google.colab import drive\n",
        "drive.mount('/content/drive')\n",
        "\n",
        "# Шлях до файлу на Google Drive\n",
        "path = '/content/drive/My Drive/Colab Notebooks/HW_5/data/'\n"
      ]
    },
    {
      "cell_type": "markdown",
      "source": [],
      "metadata": {
        "id": "X-o6tZMeebS8"
      }
    },
    {
      "cell_type": "code",
      "source": [
        "def concat_to_df():\n",
        "    to_concate = []\n",
        "    for root, dirs, files in os.walk(path):\n",
        "        for file in files:\n",
        "            if file.startswith('idle'):\n",
        "                temp = pd.read_csv(path + '/idle/' + file)\n",
        "                temp['name'] = file.split('.')[0]\n",
        "                temp['activity'] = 'idle'\n",
        "                to_concate.append(temp)\n",
        "            elif file.startswith('running'):\n",
        "                temp = pd.read_csv(path + '/running/' + file)\n",
        "                temp['name'] = file.split('.')[0]\n",
        "                temp['activity'] = 'running'\n",
        "                to_concate.append(temp)\n",
        "            elif file.startswith('stairs'):\n",
        "                temp = pd.read_csv(path + '/stairs/' + file)\n",
        "                temp['name'] = file.split('.')[0]\n",
        "                temp['activity'] = 'stairs'\n",
        "                to_concate.append(temp)\n",
        "            else:\n",
        "                temp = pd.read_csv(path + '/walking/' + file)\n",
        "                temp['name'] = file.split('.')[0]\n",
        "                temp['activity'] = 'walking'\n",
        "                to_concate.append(temp)\n",
        "    return pd.concat(to_concate)"
      ],
      "metadata": {
        "id": "JFdL-rWjJkiA"
      },
      "execution_count": 2,
      "outputs": []
    },
    {
      "cell_type": "markdown",
      "source": [
        "функція проходить по всіх файлах у вказаній директорії path, зчитує їх та об'єднує у один DataFrame.\n",
        "\n",
        "** os.walk(path) проходить по всіх піддиректоріях і файлах у вказаній директорії.\n",
        "\n",
        "** Якщо файл починається з 'idle', 'running', 'stairs' або 'walking', він зчитується за допомогою pd.read_csv, додаються колонки name (ім'я файлу без розширення) та activity (тип активності), після чого DataFrame додається до списку to_concate.\n",
        "\n",
        "** pd.concat(to_concate) об'єднує всі DataFrame зі списку в один великий DataFrame.\n"
      ],
      "metadata": {
        "id": "HO1ThnqZemij"
      }
    },
    {
      "cell_type": "code",
      "source": [
        "df = concat_to_df()"
      ],
      "metadata": {
        "id": "gZR64MQUJpwC"
      },
      "execution_count": 3,
      "outputs": []
    },
    {
      "cell_type": "code",
      "source": [
        "df"
      ],
      "metadata": {
        "id": "bGF1Yruf44IQ",
        "colab": {
          "base_uri": "https://localhost:8080/",
          "height": 424
        },
        "outputId": "196d16dd-2815-4ea4-c45f-f3b046d40a82"
      },
      "execution_count": 4,
      "outputs": [
        {
          "output_type": "execute_result",
          "data": {
            "text/plain": [
              "    accelerometer_X  accelerometer_Y  accelerometer_Z          name activity\n",
              "0         11.769896        29.046455         6.612785  running-2154  running\n",
              "1         -1.637634         7.876924         7.651869  running-2154  running\n",
              "2          0.301669         0.009577       -10.941502  running-2154  running\n",
              "3         22.969970        18.559850         1.125275  running-2154  running\n",
              "4         -6.995857         5.463568        -2.710236  running-2154  running\n",
              "..              ...              ...              ...           ...      ...\n",
              "25        -1.900996        -7.623138        -1.197101  walking-1469  walking\n",
              "26         0.536301        -9.859323         0.952892  walking-1469  walking\n",
              "27         3.936068       -15.222335         9.773131  walking-1469  walking\n",
              "28        -1.316811       -16.021997        -3.629610  walking-1469  walking\n",
              "29        -3.102885        -6.646304        -3.643975  walking-1469  walking\n",
              "\n",
              "[193860 rows x 5 columns]"
            ],
            "text/html": [
              "\n",
              "  <div id=\"df-279dc393-007d-4718-95ff-b3f6a4e35b28\" class=\"colab-df-container\">\n",
              "    <div>\n",
              "<style scoped>\n",
              "    .dataframe tbody tr th:only-of-type {\n",
              "        vertical-align: middle;\n",
              "    }\n",
              "\n",
              "    .dataframe tbody tr th {\n",
              "        vertical-align: top;\n",
              "    }\n",
              "\n",
              "    .dataframe thead th {\n",
              "        text-align: right;\n",
              "    }\n",
              "</style>\n",
              "<table border=\"1\" class=\"dataframe\">\n",
              "  <thead>\n",
              "    <tr style=\"text-align: right;\">\n",
              "      <th></th>\n",
              "      <th>accelerometer_X</th>\n",
              "      <th>accelerometer_Y</th>\n",
              "      <th>accelerometer_Z</th>\n",
              "      <th>name</th>\n",
              "      <th>activity</th>\n",
              "    </tr>\n",
              "  </thead>\n",
              "  <tbody>\n",
              "    <tr>\n",
              "      <th>0</th>\n",
              "      <td>11.769896</td>\n",
              "      <td>29.046455</td>\n",
              "      <td>6.612785</td>\n",
              "      <td>running-2154</td>\n",
              "      <td>running</td>\n",
              "    </tr>\n",
              "    <tr>\n",
              "      <th>1</th>\n",
              "      <td>-1.637634</td>\n",
              "      <td>7.876924</td>\n",
              "      <td>7.651869</td>\n",
              "      <td>running-2154</td>\n",
              "      <td>running</td>\n",
              "    </tr>\n",
              "    <tr>\n",
              "      <th>2</th>\n",
              "      <td>0.301669</td>\n",
              "      <td>0.009577</td>\n",
              "      <td>-10.941502</td>\n",
              "      <td>running-2154</td>\n",
              "      <td>running</td>\n",
              "    </tr>\n",
              "    <tr>\n",
              "      <th>3</th>\n",
              "      <td>22.969970</td>\n",
              "      <td>18.559850</td>\n",
              "      <td>1.125275</td>\n",
              "      <td>running-2154</td>\n",
              "      <td>running</td>\n",
              "    </tr>\n",
              "    <tr>\n",
              "      <th>4</th>\n",
              "      <td>-6.995857</td>\n",
              "      <td>5.463568</td>\n",
              "      <td>-2.710236</td>\n",
              "      <td>running-2154</td>\n",
              "      <td>running</td>\n",
              "    </tr>\n",
              "    <tr>\n",
              "      <th>...</th>\n",
              "      <td>...</td>\n",
              "      <td>...</td>\n",
              "      <td>...</td>\n",
              "      <td>...</td>\n",
              "      <td>...</td>\n",
              "    </tr>\n",
              "    <tr>\n",
              "      <th>25</th>\n",
              "      <td>-1.900996</td>\n",
              "      <td>-7.623138</td>\n",
              "      <td>-1.197101</td>\n",
              "      <td>walking-1469</td>\n",
              "      <td>walking</td>\n",
              "    </tr>\n",
              "    <tr>\n",
              "      <th>26</th>\n",
              "      <td>0.536301</td>\n",
              "      <td>-9.859323</td>\n",
              "      <td>0.952892</td>\n",
              "      <td>walking-1469</td>\n",
              "      <td>walking</td>\n",
              "    </tr>\n",
              "    <tr>\n",
              "      <th>27</th>\n",
              "      <td>3.936068</td>\n",
              "      <td>-15.222335</td>\n",
              "      <td>9.773131</td>\n",
              "      <td>walking-1469</td>\n",
              "      <td>walking</td>\n",
              "    </tr>\n",
              "    <tr>\n",
              "      <th>28</th>\n",
              "      <td>-1.316811</td>\n",
              "      <td>-16.021997</td>\n",
              "      <td>-3.629610</td>\n",
              "      <td>walking-1469</td>\n",
              "      <td>walking</td>\n",
              "    </tr>\n",
              "    <tr>\n",
              "      <th>29</th>\n",
              "      <td>-3.102885</td>\n",
              "      <td>-6.646304</td>\n",
              "      <td>-3.643975</td>\n",
              "      <td>walking-1469</td>\n",
              "      <td>walking</td>\n",
              "    </tr>\n",
              "  </tbody>\n",
              "</table>\n",
              "<p>193860 rows × 5 columns</p>\n",
              "</div>\n",
              "    <div class=\"colab-df-buttons\">\n",
              "\n",
              "  <div class=\"colab-df-container\">\n",
              "    <button class=\"colab-df-convert\" onclick=\"convertToInteractive('df-279dc393-007d-4718-95ff-b3f6a4e35b28')\"\n",
              "            title=\"Convert this dataframe to an interactive table.\"\n",
              "            style=\"display:none;\">\n",
              "\n",
              "  <svg xmlns=\"http://www.w3.org/2000/svg\" height=\"24px\" viewBox=\"0 -960 960 960\">\n",
              "    <path d=\"M120-120v-720h720v720H120Zm60-500h600v-160H180v160Zm220 220h160v-160H400v160Zm0 220h160v-160H400v160ZM180-400h160v-160H180v160Zm440 0h160v-160H620v160ZM180-180h160v-160H180v160Zm440 0h160v-160H620v160Z\"/>\n",
              "  </svg>\n",
              "    </button>\n",
              "\n",
              "  <style>\n",
              "    .colab-df-container {\n",
              "      display:flex;\n",
              "      gap: 12px;\n",
              "    }\n",
              "\n",
              "    .colab-df-convert {\n",
              "      background-color: #E8F0FE;\n",
              "      border: none;\n",
              "      border-radius: 50%;\n",
              "      cursor: pointer;\n",
              "      display: none;\n",
              "      fill: #1967D2;\n",
              "      height: 32px;\n",
              "      padding: 0 0 0 0;\n",
              "      width: 32px;\n",
              "    }\n",
              "\n",
              "    .colab-df-convert:hover {\n",
              "      background-color: #E2EBFA;\n",
              "      box-shadow: 0px 1px 2px rgba(60, 64, 67, 0.3), 0px 1px 3px 1px rgba(60, 64, 67, 0.15);\n",
              "      fill: #174EA6;\n",
              "    }\n",
              "\n",
              "    .colab-df-buttons div {\n",
              "      margin-bottom: 4px;\n",
              "    }\n",
              "\n",
              "    [theme=dark] .colab-df-convert {\n",
              "      background-color: #3B4455;\n",
              "      fill: #D2E3FC;\n",
              "    }\n",
              "\n",
              "    [theme=dark] .colab-df-convert:hover {\n",
              "      background-color: #434B5C;\n",
              "      box-shadow: 0px 1px 3px 1px rgba(0, 0, 0, 0.15);\n",
              "      filter: drop-shadow(0px 1px 2px rgba(0, 0, 0, 0.3));\n",
              "      fill: #FFFFFF;\n",
              "    }\n",
              "  </style>\n",
              "\n",
              "    <script>\n",
              "      const buttonEl =\n",
              "        document.querySelector('#df-279dc393-007d-4718-95ff-b3f6a4e35b28 button.colab-df-convert');\n",
              "      buttonEl.style.display =\n",
              "        google.colab.kernel.accessAllowed ? 'block' : 'none';\n",
              "\n",
              "      async function convertToInteractive(key) {\n",
              "        const element = document.querySelector('#df-279dc393-007d-4718-95ff-b3f6a4e35b28');\n",
              "        const dataTable =\n",
              "          await google.colab.kernel.invokeFunction('convertToInteractive',\n",
              "                                                    [key], {});\n",
              "        if (!dataTable) return;\n",
              "\n",
              "        const docLinkHtml = 'Like what you see? Visit the ' +\n",
              "          '<a target=\"_blank\" href=https://colab.research.google.com/notebooks/data_table.ipynb>data table notebook</a>'\n",
              "          + ' to learn more about interactive tables.';\n",
              "        element.innerHTML = '';\n",
              "        dataTable['output_type'] = 'display_data';\n",
              "        await google.colab.output.renderOutput(dataTable, element);\n",
              "        const docLink = document.createElement('div');\n",
              "        docLink.innerHTML = docLinkHtml;\n",
              "        element.appendChild(docLink);\n",
              "      }\n",
              "    </script>\n",
              "  </div>\n",
              "\n",
              "\n",
              "<div id=\"df-d6597520-c121-441f-9486-1718c437e372\">\n",
              "  <button class=\"colab-df-quickchart\" onclick=\"quickchart('df-d6597520-c121-441f-9486-1718c437e372')\"\n",
              "            title=\"Suggest charts\"\n",
              "            style=\"display:none;\">\n",
              "\n",
              "<svg xmlns=\"http://www.w3.org/2000/svg\" height=\"24px\"viewBox=\"0 0 24 24\"\n",
              "     width=\"24px\">\n",
              "    <g>\n",
              "        <path d=\"M19 3H5c-1.1 0-2 .9-2 2v14c0 1.1.9 2 2 2h14c1.1 0 2-.9 2-2V5c0-1.1-.9-2-2-2zM9 17H7v-7h2v7zm4 0h-2V7h2v10zm4 0h-2v-4h2v4z\"/>\n",
              "    </g>\n",
              "</svg>\n",
              "  </button>\n",
              "\n",
              "<style>\n",
              "  .colab-df-quickchart {\n",
              "      --bg-color: #E8F0FE;\n",
              "      --fill-color: #1967D2;\n",
              "      --hover-bg-color: #E2EBFA;\n",
              "      --hover-fill-color: #174EA6;\n",
              "      --disabled-fill-color: #AAA;\n",
              "      --disabled-bg-color: #DDD;\n",
              "  }\n",
              "\n",
              "  [theme=dark] .colab-df-quickchart {\n",
              "      --bg-color: #3B4455;\n",
              "      --fill-color: #D2E3FC;\n",
              "      --hover-bg-color: #434B5C;\n",
              "      --hover-fill-color: #FFFFFF;\n",
              "      --disabled-bg-color: #3B4455;\n",
              "      --disabled-fill-color: #666;\n",
              "  }\n",
              "\n",
              "  .colab-df-quickchart {\n",
              "    background-color: var(--bg-color);\n",
              "    border: none;\n",
              "    border-radius: 50%;\n",
              "    cursor: pointer;\n",
              "    display: none;\n",
              "    fill: var(--fill-color);\n",
              "    height: 32px;\n",
              "    padding: 0;\n",
              "    width: 32px;\n",
              "  }\n",
              "\n",
              "  .colab-df-quickchart:hover {\n",
              "    background-color: var(--hover-bg-color);\n",
              "    box-shadow: 0 1px 2px rgba(60, 64, 67, 0.3), 0 1px 3px 1px rgba(60, 64, 67, 0.15);\n",
              "    fill: var(--button-hover-fill-color);\n",
              "  }\n",
              "\n",
              "  .colab-df-quickchart-complete:disabled,\n",
              "  .colab-df-quickchart-complete:disabled:hover {\n",
              "    background-color: var(--disabled-bg-color);\n",
              "    fill: var(--disabled-fill-color);\n",
              "    box-shadow: none;\n",
              "  }\n",
              "\n",
              "  .colab-df-spinner {\n",
              "    border: 2px solid var(--fill-color);\n",
              "    border-color: transparent;\n",
              "    border-bottom-color: var(--fill-color);\n",
              "    animation:\n",
              "      spin 1s steps(1) infinite;\n",
              "  }\n",
              "\n",
              "  @keyframes spin {\n",
              "    0% {\n",
              "      border-color: transparent;\n",
              "      border-bottom-color: var(--fill-color);\n",
              "      border-left-color: var(--fill-color);\n",
              "    }\n",
              "    20% {\n",
              "      border-color: transparent;\n",
              "      border-left-color: var(--fill-color);\n",
              "      border-top-color: var(--fill-color);\n",
              "    }\n",
              "    30% {\n",
              "      border-color: transparent;\n",
              "      border-left-color: var(--fill-color);\n",
              "      border-top-color: var(--fill-color);\n",
              "      border-right-color: var(--fill-color);\n",
              "    }\n",
              "    40% {\n",
              "      border-color: transparent;\n",
              "      border-right-color: var(--fill-color);\n",
              "      border-top-color: var(--fill-color);\n",
              "    }\n",
              "    60% {\n",
              "      border-color: transparent;\n",
              "      border-right-color: var(--fill-color);\n",
              "    }\n",
              "    80% {\n",
              "      border-color: transparent;\n",
              "      border-right-color: var(--fill-color);\n",
              "      border-bottom-color: var(--fill-color);\n",
              "    }\n",
              "    90% {\n",
              "      border-color: transparent;\n",
              "      border-bottom-color: var(--fill-color);\n",
              "    }\n",
              "  }\n",
              "</style>\n",
              "\n",
              "  <script>\n",
              "    async function quickchart(key) {\n",
              "      const quickchartButtonEl =\n",
              "        document.querySelector('#' + key + ' button');\n",
              "      quickchartButtonEl.disabled = true;  // To prevent multiple clicks.\n",
              "      quickchartButtonEl.classList.add('colab-df-spinner');\n",
              "      try {\n",
              "        const charts = await google.colab.kernel.invokeFunction(\n",
              "            'suggestCharts', [key], {});\n",
              "      } catch (error) {\n",
              "        console.error('Error during call to suggestCharts:', error);\n",
              "      }\n",
              "      quickchartButtonEl.classList.remove('colab-df-spinner');\n",
              "      quickchartButtonEl.classList.add('colab-df-quickchart-complete');\n",
              "    }\n",
              "    (() => {\n",
              "      let quickchartButtonEl =\n",
              "        document.querySelector('#df-d6597520-c121-441f-9486-1718c437e372 button');\n",
              "      quickchartButtonEl.style.display =\n",
              "        google.colab.kernel.accessAllowed ? 'block' : 'none';\n",
              "    })();\n",
              "  </script>\n",
              "</div>\n",
              "    </div>\n",
              "  </div>\n"
            ],
            "application/vnd.google.colaboratory.intrinsic+json": {
              "type": "dataframe",
              "variable_name": "df"
            }
          },
          "metadata": {},
          "execution_count": 4
        }
      ]
    },
    {
      "cell_type": "markdown",
      "source": [
        "** Викликаємо функцію concat_to_df() для зчитування та об'єднання всіх файлів у один DataFrame df."
      ],
      "metadata": {
        "id": "osVQOnzSiYfi"
      }
    },
    {
      "cell_type": "markdown",
      "source": [
        "**Розділення даних на тренувальні та тестові вибірки**"
      ],
      "metadata": {
        "id": "TaxaPwJhipfJ"
      }
    },
    {
      "cell_type": "code",
      "source": [
        "x_train, x_test, y_train, y_test = train_test_split(df.iloc[:, :3], df['activity'], train_size=0.2, shuffle=True)"
      ],
      "metadata": {
        "id": "ByhzW-xhJtah"
      },
      "execution_count": 5,
      "outputs": []
    },
    {
      "cell_type": "markdown",
      "source": [
        "** train_test_split розділяє дані на тренувальні (80%) та тестові (20%) вибірки\n",
        "\n",
        "** df.iloc[:, :3] обирає перші три колонки DataFrame як незалежні змінні (особливості).\n",
        "\n",
        "** df['activity'] обирає колонку activity як залежну змінну (мітки).\n",
        "\n",
        "** train_size=0.2 означає, що 20% даних використовуються для тренування, а 80% для тестування.\n",
        "\n",
        "** shuffle=True перемішує дані перед розділенням."
      ],
      "metadata": {
        "id": "LK7LKKZgiuZv"
      }
    },
    {
      "cell_type": "markdown",
      "source": [
        " **Навчання та оцінка моделей**"
      ],
      "metadata": {
        "id": "Q3l0UjkajOoF"
      }
    },
    {
      "cell_type": "markdown",
      "source": [
        "SVC Model (RBF Kernel)"
      ],
      "metadata": {
        "id": "chzlWH_QJzTu"
      }
    },
    {
      "cell_type": "code",
      "source": [
        "model_svc = SVC().fit(x_train, y_train)"
      ],
      "metadata": {
        "id": "qrfUlI2-J0E6"
      },
      "execution_count": 6,
      "outputs": []
    },
    {
      "cell_type": "markdown",
      "source": [
        "** fit(x_train, y_train) навчає модель на тренувальних даних."
      ],
      "metadata": {
        "id": "SrVoblRUkDwZ"
      }
    },
    {
      "cell_type": "code",
      "source": [
        "model_svc.score(x_test, y_test)"
      ],
      "metadata": {
        "id": "AU5yUMHoJ21K",
        "colab": {
          "base_uri": "https://localhost:8080/"
        },
        "outputId": "ee4e7027-78cd-48e8-fca0-dd595dfc2590"
      },
      "execution_count": 7,
      "outputs": [
        {
          "output_type": "execute_result",
          "data": {
            "text/plain": [
              "0.8911327762302693"
            ]
          },
          "metadata": {},
          "execution_count": 7
        }
      ]
    },
    {
      "cell_type": "markdown",
      "source": [
        "** score(x_test, y_test) обчислює точність моделі на тестових даних."
      ],
      "metadata": {
        "id": "yseme98FkH2w"
      }
    },
    {
      "cell_type": "code",
      "source": [
        "model_svc.score(x_train, y_train)"
      ],
      "metadata": {
        "id": "JReYjX1JJ5aN",
        "colab": {
          "base_uri": "https://localhost:8080/"
        },
        "outputId": "6d8ca13b-5ef1-489a-b483-3d3a86e41f2e"
      },
      "execution_count": 8,
      "outputs": [
        {
          "output_type": "execute_result",
          "data": {
            "text/plain": [
              "0.8909522335706179"
            ]
          },
          "metadata": {},
          "execution_count": 8
        }
      ]
    },
    {
      "cell_type": "markdown",
      "source": [
        "** score(x_train, y_train) обчислює точність моделі на тренувальних даних."
      ],
      "metadata": {
        "id": "icT0QqAlkTyZ"
      }
    },
    {
      "cell_type": "markdown",
      "source": [
        "SVC Model Kernel Variation\n",
        "\n",
        "** SVM з поліноміальним ядром"
      ],
      "metadata": {
        "id": "hmDtfy21J-ar"
      }
    },
    {
      "cell_type": "code",
      "source": [
        "model_svc_poly = SVC(kernel='poly').fit(x_train, y_train)"
      ],
      "metadata": {
        "id": "4CbeEp-bJ7pK"
      },
      "execution_count": 9,
      "outputs": []
    },
    {
      "cell_type": "markdown",
      "source": [
        "** SVC(kernel='poly') створює модель SVM з використанням поліноміального ядра."
      ],
      "metadata": {
        "id": "9eWodSgBk2ro"
      }
    },
    {
      "cell_type": "code",
      "source": [
        "model_svc_poly.score(x_train, y_train)"
      ],
      "metadata": {
        "id": "4qmkNCDjKSHF",
        "colab": {
          "base_uri": "https://localhost:8080/"
        },
        "outputId": "79804b8d-ff80-42ae-e16c-329b3f3e0027"
      },
      "execution_count": 10,
      "outputs": [
        {
          "output_type": "execute_result",
          "data": {
            "text/plain": [
              "0.7404312390384814"
            ]
          },
          "metadata": {},
          "execution_count": 10
        }
      ]
    },
    {
      "cell_type": "markdown",
      "source": [
        "** score(x_train, y_train) обчислює точність моделі на тренувальних даних."
      ],
      "metadata": {
        "id": "UYANqUV5k33f"
      }
    },
    {
      "cell_type": "code",
      "source": [
        "model_svc_sigmoid = SVC(kernel='sigmoid').fit(x_train, y_train)"
      ],
      "metadata": {
        "id": "zUM8J7nTNRTg"
      },
      "execution_count": 11,
      "outputs": []
    },
    {
      "cell_type": "markdown",
      "source": [
        "** SVC(kernel='sigmoid') створює модель SVM з використанням сигмоїдального ядра\n",
        "** fit(x_train, y_train) навчає модель на тренувальних даних."
      ],
      "metadata": {
        "id": "AgcAU45QlECe"
      }
    },
    {
      "cell_type": "markdown",
      "source": [],
      "metadata": {
        "id": "0f-u1R2Gkgu3"
      }
    },
    {
      "cell_type": "code",
      "source": [
        "model_svc_sigmoid.score(x_train, y_train)"
      ],
      "metadata": {
        "id": "xGun0S27wUiT",
        "colab": {
          "base_uri": "https://localhost:8080/"
        },
        "outputId": "3cbb961f-2a90-4b33-e9d1-d7c66f8e8574"
      },
      "execution_count": 12,
      "outputs": [
        {
          "output_type": "execute_result",
          "data": {
            "text/plain": [
              "0.6101568141958114"
            ]
          },
          "metadata": {},
          "execution_count": 12
        }
      ]
    },
    {
      "cell_type": "markdown",
      "source": [
        "** score(x_train, y_train) обчислює точність моделі на тренувальних даних."
      ],
      "metadata": {
        "id": "H7aaxZRGlQ5H"
      }
    },
    {
      "cell_type": "markdown",
      "source": [
        "RandomForestClassifier Model"
      ],
      "metadata": {
        "id": "qEuwk3AnwYPC"
      }
    },
    {
      "cell_type": "code",
      "source": [
        "model_rfc = RandomForestClassifier().fit(x_train, y_train)"
      ],
      "metadata": {
        "id": "BS8KfLi_wVOy"
      },
      "execution_count": 13,
      "outputs": []
    },
    {
      "cell_type": "markdown",
      "source": [
        "** RandomForestClassifier() створює модель Random Forest з використанням параметрів за замовчуванням.\n",
        "\n",
        "** fit(x_train, y_train) навчає модель на тренувальних даних."
      ],
      "metadata": {
        "id": "fqm9-dAulVkP"
      }
    },
    {
      "cell_type": "code",
      "source": [
        "model_rfc.score(x_train, y_train)"
      ],
      "metadata": {
        "id": "6WV4Bs24wbGB",
        "colab": {
          "base_uri": "https://localhost:8080/"
        },
        "outputId": "a6573faf-b9a0-4284-df84-48b9bac0f364"
      },
      "execution_count": 14,
      "outputs": [
        {
          "output_type": "execute_result",
          "data": {
            "text/plain": [
              "1.0"
            ]
          },
          "metadata": {},
          "execution_count": 14
        }
      ]
    },
    {
      "cell_type": "markdown",
      "source": [
        "** score(x_train, y_train) обчислює точність моделі на тренувальних даних."
      ],
      "metadata": {
        "id": "NvBaJWohlf9u"
      }
    },
    {
      "cell_type": "code",
      "source": [
        "model_rfc.score(x_test, y_test)"
      ],
      "metadata": {
        "id": "QNVO2c7Nxb4t",
        "colab": {
          "base_uri": "https://localhost:8080/"
        },
        "outputId": "8b568c3b-50b1-43e4-9548-ef85ede0c8d6"
      },
      "execution_count": 15,
      "outputs": [
        {
          "output_type": "execute_result",
          "data": {
            "text/plain": [
              "0.9928363251831218"
            ]
          },
          "metadata": {},
          "execution_count": 15
        }
      ]
    },
    {
      "cell_type": "markdown",
      "source": [
        "** score(x_test, y_test) обчислює точність моделі на тестових даних."
      ],
      "metadata": {
        "id": "IlOPcOVDljGI"
      }
    }
  ]
}