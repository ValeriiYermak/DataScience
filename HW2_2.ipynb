{
  "nbformat": 4,
  "nbformat_minor": 0,
  "metadata": {
    "colab": {
      "provenance": [],
      "authorship_tag": "ABX9TyP7fTMLhOo7IBjROwW6N2o8",
      "include_colab_link": true
    },
    "kernelspec": {
      "name": "python3",
      "display_name": "Python 3"
    },
    "language_info": {
      "name": "python"
    }
  },
  "cells": [
    {
      "cell_type": "markdown",
      "metadata": {
        "id": "view-in-github",
        "colab_type": "text"
      },
      "source": [
        "<a href=\"https://colab.research.google.com/github/ValeriiYermak/DataScience/blob/main/HW2_2.ipynb\" target=\"_parent\"><img src=\"https://colab.research.google.com/assets/colab-badge.svg\" alt=\"Open In Colab\"/></a>"
      ]
    },
    {
      "cell_type": "markdown",
      "source": [
        "Проведіть аналіз файлу 2017_jun_final.csv. Файл містить результати опитування розробників у червні 2017 року."
      ],
      "metadata": {
        "id": "5ztFUFBpGvS_"
      }
    },
    {
      "cell_type": "code",
      "execution_count": 32,
      "metadata": {
        "id": "UB8IV8wzFWF_"
      },
      "outputs": [],
      "source": [
        "import numpy as np\n",
        "import seaborn as sns\n",
        "import matplotlib.pyplot as plt\n",
        "import pandas as pd\n"
      ]
    },
    {
      "cell_type": "markdown",
      "source": [
        "Прочитайте файл 2017_jun_final.csv за допомогою методу read_csv"
      ],
      "metadata": {
        "id": "f7uEiQY1IVJB"
      }
    },
    {
      "cell_type": "markdown",
      "source": [
        "Прочитайте отриману таблицю, використовуючи метод head"
      ],
      "metadata": {
        "id": "YX9xd0UVIWMG"
      }
    },
    {
      "cell_type": "markdown",
      "source": [],
      "metadata": {
        "id": "Raf3D_pPIYbX"
      }
    },
    {
      "cell_type": "markdown",
      "source": [],
      "metadata": {
        "id": "vhw1MzptGuFh"
      }
    },
    {
      "cell_type": "markdown",
      "source": [
        "Визначте розмір таблиці за допомогою методу shape"
      ],
      "metadata": {
        "id": "SszPZNvzIZ0G"
      }
    },
    {
      "cell_type": "markdown",
      "source": [],
      "metadata": {
        "id": "CLChtJUlIabG"
      }
    },
    {
      "cell_type": "markdown",
      "source": [
        "Визначте типи всіх стовпців за допомогою dataframe.dtypes"
      ],
      "metadata": {
        "id": "9Uu6Of8HIbqb"
      }
    },
    {
      "cell_type": "markdown",
      "source": [
        "Порахуйте, яка частка пропусків міститься в кожній колонці (використовуйте методи isnull та sum)"
      ],
      "metadata": {
        "id": "cjV1yl6OIcP2"
      }
    },
    {
      "cell_type": "markdown",
      "source": [
        "Видаліть усі стовпці з пропусками, крім стовпця \"Мова програмування\""
      ],
      "metadata": {
        "id": "pzRwgCicIeXv"
      }
    },
    {
      "cell_type": "markdown",
      "source": [
        "Знову порахуйте, яка частка пропусків міститься в кожній колонці і переконайтеся, що залишився тільки стовпець \"Мова.програмування\""
      ],
      "metadata": {
        "id": "V5GFI3pGIg94"
      }
    },
    {
      "cell_type": "markdown",
      "source": [
        "Видаліть усі рядки у вихідній таблиці за допомогою методу dropna"
      ],
      "metadata": {
        "id": "1jO5fC8XIi4P"
      }
    },
    {
      "cell_type": "markdown",
      "source": [
        "Визначте новий розмір таблиці за допомогою методу shape"
      ],
      "metadata": {
        "id": "5h7adiyzIlTl"
      }
    },
    {
      "cell_type": "markdown",
      "source": [
        "Створіть нову таблицю python_data, в якій будуть тільки рядки зі спеціалістами, які вказали мову програмування Python"
      ],
      "metadata": {
        "id": "qxFflWi_Im-O"
      }
    },
    {
      "cell_type": "markdown",
      "source": [
        "Визначте розмір таблиці python_data за допомогою методу shape"
      ],
      "metadata": {
        "id": "TnwWnIa3IoV-"
      }
    },
    {
      "cell_type": "markdown",
      "source": [
        "Використовуючи метод groupby, виконайте групування за стовпчиком \"Посада\""
      ],
      "metadata": {
        "id": "yNCeAMA9IqF8"
      }
    },
    {
      "cell_type": "markdown",
      "source": [
        "Створіть новий DataFrame, де для згрупованих даних за стовпчиком \"Посада\", виконайте агрегацію даних за допомогою методу agg і знайдіть мінімальне та максимальне значення у стовпчику \"Зарплата.в.місяць\""
      ],
      "metadata": {
        "id": "xCy6sSeEIr7N"
      }
    },
    {
      "cell_type": "markdown",
      "source": [
        "Створіть функцію fill_avg_salary, яка повертатиме середнє значення заробітної плати на місяць. Використовуйте її для методу apply та створіть новий стовпчик \"avg\""
      ],
      "metadata": {
        "id": "m-pLt4UgIt8M"
      }
    },
    {
      "cell_type": "markdown",
      "source": [
        "Створіть описову статистику за допомогою методу describe для нового стовпчика."
      ],
      "metadata": {
        "id": "GPgqzvL8IvzV"
      }
    },
    {
      "cell_type": "markdown",
      "source": [
        "Збережіть отриману таблицю в CSV файл"
      ],
      "metadata": {
        "id": "i84b6411Ixaj"
      }
    }
  ]
}