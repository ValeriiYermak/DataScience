{
  "nbformat": 4,
  "nbformat_minor": 0,
  "metadata": {
    "colab": {
      "provenance": [],
      "authorship_tag": "ABX9TyO4ngnK7NeXpEo3OQrDCqNV",
      "include_colab_link": true
    },
    "kernelspec": {
      "name": "python3",
      "display_name": "Python 3"
    },
    "language_info": {
      "name": "python"
    }
  },
  "cells": [
    {
      "cell_type": "markdown",
      "metadata": {
        "id": "view-in-github",
        "colab_type": "text"
      },
      "source": [
        "<a href=\"https://colab.research.google.com/github/ValeriiYermak/DataScience/blob/main/HW_7.ipynb\" target=\"_parent\"><img src=\"https://colab.research.google.com/assets/colab-badge.svg\" alt=\"Open In Colab\"/></a>"
      ]
    },
    {
      "cell_type": "code",
      "execution_count": 12,
      "metadata": {
        "colab": {
          "base_uri": "https://localhost:8080/"
        },
        "id": "BjCVYgm8K5KK",
        "outputId": "aeb3d419-1588-468b-9c9c-0d6880a20a3e"
      },
      "outputs": [
        {
          "output_type": "stream",
          "name": "stdout",
          "text": [
            "Requirement already satisfied: scikit-surprise in /usr/local/lib/python3.10/dist-packages (1.1.4)\n",
            "Requirement already satisfied: joblib>=1.2.0 in /usr/local/lib/python3.10/dist-packages (from scikit-surprise) (1.4.2)\n",
            "Requirement already satisfied: numpy>=1.19.5 in /usr/local/lib/python3.10/dist-packages (from scikit-surprise) (1.25.2)\n",
            "Requirement already satisfied: scipy>=1.6.0 in /usr/local/lib/python3.10/dist-packages (from scikit-surprise) (1.11.4)\n",
            "Requirement already satisfied: scikit-optimize in /usr/local/lib/python3.10/dist-packages (0.10.2)\n",
            "Requirement already satisfied: joblib>=0.11 in /usr/local/lib/python3.10/dist-packages (from scikit-optimize) (1.4.2)\n",
            "Requirement already satisfied: pyaml>=16.9 in /usr/local/lib/python3.10/dist-packages (from scikit-optimize) (24.4.0)\n",
            "Requirement already satisfied: numpy>=1.20.3 in /usr/local/lib/python3.10/dist-packages (from scikit-optimize) (1.25.2)\n",
            "Requirement already satisfied: scipy>=1.1.0 in /usr/local/lib/python3.10/dist-packages (from scikit-optimize) (1.11.4)\n",
            "Requirement already satisfied: scikit-learn>=1.0.0 in /usr/local/lib/python3.10/dist-packages (from scikit-optimize) (1.2.2)\n",
            "Requirement already satisfied: packaging>=21.3 in /usr/local/lib/python3.10/dist-packages (from scikit-optimize) (24.1)\n",
            "Requirement already satisfied: PyYAML in /usr/local/lib/python3.10/dist-packages (from pyaml>=16.9->scikit-optimize) (6.0.1)\n",
            "Requirement already satisfied: threadpoolctl>=2.0.0 in /usr/local/lib/python3.10/dist-packages (from scikit-learn>=1.0.0->scikit-optimize) (3.5.0)\n",
            "Requirement already satisfied: pandas-profiling in /usr/local/lib/python3.10/dist-packages (3.6.6)\n",
            "Requirement already satisfied: ydata-profiling in /usr/local/lib/python3.10/dist-packages (from pandas-profiling) (4.8.3)\n",
            "Requirement already satisfied: scipy<1.14,>=1.4.1 in /usr/local/lib/python3.10/dist-packages (from ydata-profiling->pandas-profiling) (1.11.4)\n",
            "Requirement already satisfied: pandas!=1.4.0,<3,>1.1 in /usr/local/lib/python3.10/dist-packages (from ydata-profiling->pandas-profiling) (2.0.3)\n",
            "Requirement already satisfied: matplotlib<3.9,>=3.2 in /usr/local/lib/python3.10/dist-packages (from ydata-profiling->pandas-profiling) (3.7.1)\n",
            "Requirement already satisfied: pydantic>=2 in /usr/local/lib/python3.10/dist-packages (from ydata-profiling->pandas-profiling) (2.7.4)\n",
            "Requirement already satisfied: PyYAML<6.1,>=5.0.0 in /usr/local/lib/python3.10/dist-packages (from ydata-profiling->pandas-profiling) (6.0.1)\n",
            "Requirement already satisfied: jinja2<3.2,>=2.11.1 in /usr/local/lib/python3.10/dist-packages (from ydata-profiling->pandas-profiling) (3.1.4)\n",
            "Requirement already satisfied: visions[type_image_path]<0.7.7,>=0.7.5 in /usr/local/lib/python3.10/dist-packages (from ydata-profiling->pandas-profiling) (0.7.6)\n",
            "Requirement already satisfied: numpy<2,>=1.16.0 in /usr/local/lib/python3.10/dist-packages (from ydata-profiling->pandas-profiling) (1.25.2)\n",
            "Requirement already satisfied: htmlmin==0.1.12 in /usr/local/lib/python3.10/dist-packages (from ydata-profiling->pandas-profiling) (0.1.12)\n",
            "Requirement already satisfied: phik<0.13,>=0.11.1 in /usr/local/lib/python3.10/dist-packages (from ydata-profiling->pandas-profiling) (0.12.4)\n",
            "Requirement already satisfied: requests<3,>=2.24.0 in /usr/local/lib/python3.10/dist-packages (from ydata-profiling->pandas-profiling) (2.31.0)\n",
            "Requirement already satisfied: tqdm<5,>=4.48.2 in /usr/local/lib/python3.10/dist-packages (from ydata-profiling->pandas-profiling) (4.66.4)\n",
            "Requirement already satisfied: seaborn<0.14,>=0.10.1 in /usr/local/lib/python3.10/dist-packages (from ydata-profiling->pandas-profiling) (0.13.1)\n",
            "Requirement already satisfied: multimethod<2,>=1.4 in /usr/local/lib/python3.10/dist-packages (from ydata-profiling->pandas-profiling) (1.11.2)\n",
            "Requirement already satisfied: statsmodels<1,>=0.13.2 in /usr/local/lib/python3.10/dist-packages (from ydata-profiling->pandas-profiling) (0.14.2)\n",
            "Requirement already satisfied: typeguard<5,>=3 in /usr/local/lib/python3.10/dist-packages (from ydata-profiling->pandas-profiling) (4.3.0)\n",
            "Requirement already satisfied: imagehash==4.3.1 in /usr/local/lib/python3.10/dist-packages (from ydata-profiling->pandas-profiling) (4.3.1)\n",
            "Requirement already satisfied: wordcloud>=1.9.1 in /usr/local/lib/python3.10/dist-packages (from ydata-profiling->pandas-profiling) (1.9.3)\n",
            "Requirement already satisfied: dacite>=1.8 in /usr/local/lib/python3.10/dist-packages (from ydata-profiling->pandas-profiling) (1.8.1)\n",
            "Requirement already satisfied: numba<1,>=0.56.0 in /usr/local/lib/python3.10/dist-packages (from ydata-profiling->pandas-profiling) (0.58.1)\n",
            "Requirement already satisfied: PyWavelets in /usr/local/lib/python3.10/dist-packages (from imagehash==4.3.1->ydata-profiling->pandas-profiling) (1.6.0)\n",
            "Requirement already satisfied: pillow in /usr/local/lib/python3.10/dist-packages (from imagehash==4.3.1->ydata-profiling->pandas-profiling) (9.4.0)\n",
            "Requirement already satisfied: MarkupSafe>=2.0 in /usr/local/lib/python3.10/dist-packages (from jinja2<3.2,>=2.11.1->ydata-profiling->pandas-profiling) (2.1.5)\n",
            "Requirement already satisfied: contourpy>=1.0.1 in /usr/local/lib/python3.10/dist-packages (from matplotlib<3.9,>=3.2->ydata-profiling->pandas-profiling) (1.2.1)\n",
            "Requirement already satisfied: cycler>=0.10 in /usr/local/lib/python3.10/dist-packages (from matplotlib<3.9,>=3.2->ydata-profiling->pandas-profiling) (0.12.1)\n",
            "Requirement already satisfied: fonttools>=4.22.0 in /usr/local/lib/python3.10/dist-packages (from matplotlib<3.9,>=3.2->ydata-profiling->pandas-profiling) (4.53.0)\n",
            "Requirement already satisfied: kiwisolver>=1.0.1 in /usr/local/lib/python3.10/dist-packages (from matplotlib<3.9,>=3.2->ydata-profiling->pandas-profiling) (1.4.5)\n",
            "Requirement already satisfied: packaging>=20.0 in /usr/local/lib/python3.10/dist-packages (from matplotlib<3.9,>=3.2->ydata-profiling->pandas-profiling) (24.1)\n",
            "Requirement already satisfied: pyparsing>=2.3.1 in /usr/local/lib/python3.10/dist-packages (from matplotlib<3.9,>=3.2->ydata-profiling->pandas-profiling) (3.1.2)\n",
            "Requirement already satisfied: python-dateutil>=2.7 in /usr/local/lib/python3.10/dist-packages (from matplotlib<3.9,>=3.2->ydata-profiling->pandas-profiling) (2.8.2)\n",
            "Requirement already satisfied: llvmlite<0.42,>=0.41.0dev0 in /usr/local/lib/python3.10/dist-packages (from numba<1,>=0.56.0->ydata-profiling->pandas-profiling) (0.41.1)\n",
            "Requirement already satisfied: pytz>=2020.1 in /usr/local/lib/python3.10/dist-packages (from pandas!=1.4.0,<3,>1.1->ydata-profiling->pandas-profiling) (2023.4)\n",
            "Requirement already satisfied: tzdata>=2022.1 in /usr/local/lib/python3.10/dist-packages (from pandas!=1.4.0,<3,>1.1->ydata-profiling->pandas-profiling) (2024.1)\n",
            "Requirement already satisfied: joblib>=0.14.1 in /usr/local/lib/python3.10/dist-packages (from phik<0.13,>=0.11.1->ydata-profiling->pandas-profiling) (1.4.2)\n",
            "Requirement already satisfied: annotated-types>=0.4.0 in /usr/local/lib/python3.10/dist-packages (from pydantic>=2->ydata-profiling->pandas-profiling) (0.7.0)\n",
            "Requirement already satisfied: pydantic-core==2.18.4 in /usr/local/lib/python3.10/dist-packages (from pydantic>=2->ydata-profiling->pandas-profiling) (2.18.4)\n",
            "Requirement already satisfied: typing-extensions>=4.6.1 in /usr/local/lib/python3.10/dist-packages (from pydantic>=2->ydata-profiling->pandas-profiling) (4.12.2)\n",
            "Requirement already satisfied: charset-normalizer<4,>=2 in /usr/local/lib/python3.10/dist-packages (from requests<3,>=2.24.0->ydata-profiling->pandas-profiling) (3.3.2)\n",
            "Requirement already satisfied: idna<4,>=2.5 in /usr/local/lib/python3.10/dist-packages (from requests<3,>=2.24.0->ydata-profiling->pandas-profiling) (3.7)\n",
            "Requirement already satisfied: urllib3<3,>=1.21.1 in /usr/local/lib/python3.10/dist-packages (from requests<3,>=2.24.0->ydata-profiling->pandas-profiling) (2.0.7)\n",
            "Requirement already satisfied: certifi>=2017.4.17 in /usr/local/lib/python3.10/dist-packages (from requests<3,>=2.24.0->ydata-profiling->pandas-profiling) (2024.6.2)\n",
            "Requirement already satisfied: patsy>=0.5.6 in /usr/local/lib/python3.10/dist-packages (from statsmodels<1,>=0.13.2->ydata-profiling->pandas-profiling) (0.5.6)\n",
            "Requirement already satisfied: attrs>=19.3.0 in /usr/local/lib/python3.10/dist-packages (from visions[type_image_path]<0.7.7,>=0.7.5->ydata-profiling->pandas-profiling) (23.2.0)\n",
            "Requirement already satisfied: networkx>=2.4 in /usr/local/lib/python3.10/dist-packages (from visions[type_image_path]<0.7.7,>=0.7.5->ydata-profiling->pandas-profiling) (3.3)\n",
            "Requirement already satisfied: six in /usr/local/lib/python3.10/dist-packages (from patsy>=0.5.6->statsmodels<1,>=0.13.2->ydata-profiling->pandas-profiling) (1.16.0)\n"
          ]
        }
      ],
      "source": [
        "!pip install scikit-surprise\n",
        "!pip install scikit-optimize\n",
        "!pip install pandas-profiling\n"
      ]
    },
    {
      "cell_type": "code",
      "source": [
        "import numpy as np\n",
        "import matplotlib.pyplot as plt\n",
        "from surprise import SVD, SVDpp, NMF\n",
        "from surprise import Dataset\n",
        "from surprise import accuracy\n",
        "from surprise.model_selection import cross_validate\n",
        "from scipy.io import loadmat\n"
      ],
      "metadata": {
        "id": "Q__Bt2qVLuKA"
      },
      "execution_count": 13,
      "outputs": []
    },
    {
      "cell_type": "markdown",
      "source": [
        "**Завантажуємо датасет MovieLens**"
      ],
      "metadata": {
        "id": "SvlCTP77QzUq"
      }
    },
    {
      "cell_type": "code",
      "source": [
        "data = Dataset.load_builtin(name='ml-100k', prompt=True)"
      ],
      "metadata": {
        "id": "a5ZXKB_iL1L-"
      },
      "execution_count": 14,
      "outputs": []
    },
    {
      "cell_type": "code",
      "source": [
        "# Завантаження даних\n",
        "data = Dataset.load_builtin('ml-100k')\n",
        "\n",
        "# Отримання raw ratings\n",
        "raw_ratings = data.raw_ratings\n",
        "\n",
        "# Перетворення на DataFrame для аналізу\n",
        "df = pd.DataFrame(raw_ratings, columns=['user_id', 'item_id', 'rating', 'timestamp'])\n",
        "\n",
        "# Кількість унікальних користувачів та фільмів\n",
        "num_users = df['user_id'].nunique()\n",
        "num_items = df['item_id'].nunique()\n",
        "num_ratings = len(df)\n",
        "\n",
        "print(f\"Number of users: {num_users}\")\n",
        "print(f\"Number of items: {num_items}\")\n",
        "print(f\"Number of ratings: {num_ratings}\")\n"
      ],
      "metadata": {
        "colab": {
          "base_uri": "https://localhost:8080/"
        },
        "id": "-614_q6gT-4_",
        "outputId": "e44a9322-f580-4a3c-a52c-f6e3687e26eb"
      },
      "execution_count": 21,
      "outputs": [
        {
          "output_type": "stream",
          "name": "stdout",
          "text": [
            "Number of users: 943\n",
            "Number of items: 1682\n",
            "Number of ratings: 100000\n"
          ]
        }
      ]
    },
    {
      "cell_type": "markdown",
      "source": [
        "**Використовуємо алгоритм SVD**"
      ],
      "metadata": {
        "id": "BbhDKU2gRYFZ"
      }
    },
    {
      "cell_type": "markdown",
      "source": [
        "**Використовуємо Крос-валідацію для оцінки точності моделі**"
      ],
      "metadata": {
        "id": "JE3dt6CLRuKo"
      }
    },
    {
      "cell_type": "code",
      "source": [
        "algoritmSVD = SVD()\n",
        "resultSVD = cross_validate(algoritmSVD, data, measures=['RMSE', 'MAE'], cv=5, verbose=True)"
      ],
      "metadata": {
        "colab": {
          "base_uri": "https://localhost:8080/"
        },
        "id": "Ord5TMKIMzm-",
        "outputId": "a92cfdc7-483d-4e43-ac49-10ef6df3de31"
      },
      "execution_count": 22,
      "outputs": [
        {
          "output_type": "stream",
          "name": "stdout",
          "text": [
            "Evaluating RMSE, MAE of algorithm SVD on 5 split(s).\n",
            "\n",
            "                  Fold 1  Fold 2  Fold 3  Fold 4  Fold 5  Mean    Std     \n",
            "RMSE (testset)    0.9336  0.9361  0.9346  0.9371  0.9371  0.9357  0.0014  \n",
            "MAE (testset)     0.7351  0.7371  0.7359  0.7375  0.7390  0.7369  0.0014  \n",
            "Fit time          1.48    1.46    1.44    1.99    1.52    1.58    0.21    \n",
            "Test time         0.14    0.25    0.13    0.40    0.12    0.21    0.11    \n"
          ]
        }
      ]
    },
    {
      "cell_type": "code",
      "source": [
        "meanSVD_rmse = resultSVD['test_rmse'].mean()\n",
        "meanSVD_mae = resultSVD['test_mae'].mean()\n",
        "\n",
        "print(\"SVD\")\n",
        "print(\"Mean RMSE:\", meanSVD_rmse)\n",
        "print(\"Mean MAE:\", meanSVD_mae)"
      ],
      "metadata": {
        "colab": {
          "base_uri": "https://localhost:8080/"
        },
        "id": "2pY-GRtAOgVr",
        "outputId": "582e5585-038c-4c81-e58f-e7386cd9dc56"
      },
      "execution_count": 16,
      "outputs": [
        {
          "output_type": "stream",
          "name": "stdout",
          "text": [
            "SVD\n",
            "Mean RMSE: 0.9364036619753282\n",
            "Mean MAE: 0.738488111400389\n"
          ]
        }
      ]
    },
    {
      "cell_type": "markdown",
      "source": [
        "**Використовуємо алгоритм SVD++**"
      ],
      "metadata": {
        "id": "I6fqzX7pSAin"
      }
    },
    {
      "cell_type": "markdown",
      "source": [
        "**Використовуємо Крос-валідацію для оцінки точності моделі**"
      ],
      "metadata": {
        "id": "SVy49xU0SI_X"
      }
    },
    {
      "cell_type": "code",
      "source": [
        "algoritmSVDpp = SVDpp()\n",
        "resultSVDpp = cross_validate(algoritmSVDpp, data, measures=['RMSE', 'MAE'], cv=5, verbose=True)"
      ],
      "metadata": {
        "colab": {
          "base_uri": "https://localhost:8080/"
        },
        "id": "vc4w57VFPiZU",
        "outputId": "4aaa9895-37f4-49ef-f8a2-a3f59a9e5fee"
      },
      "execution_count": 10,
      "outputs": [
        {
          "output_type": "stream",
          "name": "stdout",
          "text": [
            "Evaluating RMSE, MAE of algorithm SVDpp on 5 split(s).\n",
            "\n",
            "                  Fold 1  Fold 2  Fold 3  Fold 4  Fold 5  Mean    Std     \n",
            "RMSE (testset)    0.9118  0.9245  0.9189  0.9160  0.9200  0.9182  0.0042  \n",
            "MAE (testset)     0.7146  0.7274  0.7194  0.7185  0.7210  0.7202  0.0042  \n",
            "Fit time          29.51   28.44   28.31   27.10   26.93   28.06   0.95    \n",
            "Test time         6.55    4.49    4.57    5.88    4.43    5.18    0.87    \n"
          ]
        }
      ]
    },
    {
      "cell_type": "code",
      "source": [
        "meanSVDpp_rmse = resultSVDpp['test_rmse'].mean()\n",
        "meanSVDpp_mae = resultSVDpp['test_mae'].mean()\n",
        "\n",
        "print(\"SVDpp\")\n",
        "print(\"Mean RMSE:\", meanSVDpp_rmse)\n",
        "print(\"Mean MAE:\", meanSVDpp_mae)"
      ],
      "metadata": {
        "colab": {
          "base_uri": "https://localhost:8080/"
        },
        "id": "KTchi1SCPpda",
        "outputId": "ed663ec7-12e0-44de-b5a3-63d7b4a43a0d"
      },
      "execution_count": 17,
      "outputs": [
        {
          "output_type": "stream",
          "name": "stdout",
          "text": [
            "SVDpp\n",
            "Mean RMSE: 0.9182427227815578\n",
            "Mean MAE: 0.7201563820897361\n"
          ]
        }
      ]
    },
    {
      "cell_type": "markdown",
      "source": [
        "**Використовуємо алгоритм NMF**"
      ],
      "metadata": {
        "id": "tlwKkhdZSMdf"
      }
    },
    {
      "cell_type": "markdown",
      "source": [
        "**Використовуємо Крос-валідацію для оцінки точності моделі**"
      ],
      "metadata": {
        "id": "xWTOTEtdSMJ4"
      }
    },
    {
      "cell_type": "code",
      "source": [
        "algoritmNMF = NMF()\n",
        "resultNMF = cross_validate(algoritmNMF, data, measures=['RMSE', 'MAE'], cv=5, verbose=True)"
      ],
      "metadata": {
        "colab": {
          "base_uri": "https://localhost:8080/"
        },
        "id": "23NWvkMJPsS1",
        "outputId": "b91d8393-7295-49b7-918a-cd8148e3d064"
      },
      "execution_count": 11,
      "outputs": [
        {
          "output_type": "stream",
          "name": "stdout",
          "text": [
            "Evaluating RMSE, MAE of algorithm NMF on 5 split(s).\n",
            "\n",
            "                  Fold 1  Fold 2  Fold 3  Fold 4  Fold 5  Mean    Std     \n",
            "RMSE (testset)    0.9582  0.9645  0.9615  0.9653  0.9635  0.9626  0.0025  \n",
            "MAE (testset)     0.7519  0.7595  0.7572  0.7601  0.7555  0.7569  0.0030  \n",
            "Fit time          2.10    2.86    2.13    2.12    2.13    2.27    0.30    \n",
            "Test time         0.14    0.28    0.10    0.14    0.10    0.15    0.07    \n"
          ]
        }
      ]
    },
    {
      "cell_type": "code",
      "source": [
        "meanNMF_rmse = resultNMF['test_rmse'].mean()\n",
        "meanNMF_mae = resultNMF['test_mae'].mean()\n",
        "\n",
        "print(\"NMF\")\n",
        "print(\"Mean RMSE:\", meanNMF_rmse)\n",
        "print(\"Mean MAE:\", meanNMF_mae)"
      ],
      "metadata": {
        "colab": {
          "base_uri": "https://localhost:8080/"
        },
        "id": "rfLpdGTRP0b5",
        "outputId": "28005d21-f4f3-4758-d464-69ca89f20f2a"
      },
      "execution_count": 18,
      "outputs": [
        {
          "output_type": "stream",
          "name": "stdout",
          "text": [
            "NMF\n",
            "Mean RMSE: 0.9626146056669912\n",
            "Mean MAE: 0.75686371315234\n"
          ]
        }
      ]
    },
    {
      "cell_type": "markdown",
      "source": [
        "**ВИСНОВКИ:**"
      ],
      "metadata": {
        "id": "21VXILZHSfa-"
      }
    },
    {
      "cell_type": "code",
      "source": [
        "print(\"SVD:\")\n",
        "print(\"* Mean RMSE:\", meanSVD_rmse)\n",
        "print(\"* Mean MAE:\", meanSVD_mae)\n",
        "print(\"\")\n",
        "print(\"SVDpp:\")\n",
        "print(\"* Mean RMSE:\", meanSVDpp_rmse)\n",
        "print(\"* Mean MAE:\", meanSVDpp_mae)\n",
        "print(\"\")\n",
        "print(\"NMF:\")\n",
        "print(\"* Mean RMSE:\", meanNMF_rmse)\n",
        "print(\"* Mean MAE:\", meanNMF_mae)"
      ],
      "metadata": {
        "colab": {
          "base_uri": "https://localhost:8080/"
        },
        "id": "NPjEdVKBVRG9",
        "outputId": "02c2ed0d-9d22-43b6-cc35-97e212c152b2"
      },
      "execution_count": 31,
      "outputs": [
        {
          "output_type": "stream",
          "name": "stdout",
          "text": [
            "SVD:\n",
            "* Mean RMSE: 0.9364036619753282\n",
            "* Mean MAE: 0.738488111400389\n",
            "\n",
            "SVDpp:\n",
            "* Mean RMSE: 0.9182427227815578\n",
            "* Mean MAE: 0.7201563820897361\n",
            "\n",
            "NMF:\n",
            "* Mean RMSE: 0.9626146056669912\n",
            "* Mean MAE: 0.75686371315234\n"
          ]
        }
      ]
    },
    {
      "cell_type": "markdown",
      "source": [
        "Зібрані результати дозволяють порівняти ефективність трьох алгоритмів на наборі даних MovieLens 100k:\n",
        "\n",
        "\n",
        "\n",
        "SVD++ має найнижчі значення RMSE та MAE серед трьох алгоритмів, що означає, що цей алгоритм є найточнішим для цього набору даних. SVD займає друге місце за точністю, а NMF має найвищі помилки (як RMSE, так і MAE), що вказує на найменшу точність серед трьох алгоритмів.\n",
        "\n",
        "\n",
        "\n",
        "З точки зору часу виконання, SVDpp потребує значно більше часу на тренування і тестування в порівнянні з SVD та NMF, що може бути важливим фактором при виборі алгоритму для реального застосування.\n",
        "\n",
        "\n",
        "\n",
        "Отже, вибір алгоритму буде залежати від балансу між необхідною точністю та часом виконання. Якщо точність є ключовим фактором, SVD++ буде найкращим вибором. Якщо ж час виконання є критичним, SVD може бути більш прийнятним варіантом, оскільки він пропонує компроміс між точністю та часом."
      ],
      "metadata": {
        "id": "H4-gKY2yWATa"
      }
    }
  ]
}