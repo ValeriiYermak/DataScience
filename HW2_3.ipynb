{
  "nbformat": 4,
  "nbformat_minor": 0,
  "metadata": {
    "colab": {
      "provenance": [],
      "authorship_tag": "ABX9TyMt0WvmMH+ILDREJYNQN+G8",
      "include_colab_link": true
    },
    "kernelspec": {
      "name": "python3",
      "display_name": "Python 3"
    },
    "language_info": {
      "name": "python"
    }
  },
  "cells": [
    {
      "cell_type": "markdown",
      "metadata": {
        "id": "view-in-github",
        "colab_type": "text"
      },
      "source": [
        "<a href=\"https://colab.research.google.com/github/ValeriiYermak/DataScience/blob/main/HW2_3.ipynb\" target=\"_parent\"><img src=\"https://colab.research.google.com/assets/colab-badge.svg\" alt=\"Open In Colab\"/></a>"
      ]
    },
    {
      "cell_type": "markdown",
      "source": [
        "Прочитайте csv файл (використовуйте функцію read_csv)\n",
        "Виведіть перші п'ять рядків (використовується функція head)"
      ],
      "metadata": {
        "id": "H8-8QukoI0kD"
      }
    },
    {
      "cell_type": "code",
      "execution_count": 14,
      "metadata": {
        "colab": {
          "base_uri": "https://localhost:8080/",
          "height": 224
        },
        "id": "2vEgE1pgHMes",
        "outputId": "fc7efc3e-affb-4f3d-e8a6-abce1720e20f"
      },
      "outputs": [
        {
          "output_type": "stream",
          "name": "stdout",
          "text": [
            "Drive already mounted at /content/drive; to attempt to forcibly remount, call drive.mount(\"/content/drive\", force_remount=True).\n"
          ]
        },
        {
          "output_type": "execute_result",
          "data": {
            "text/plain": [
              "                                                Name  \\\n",
              "0                      10-Day Green Smoothie Cleanse   \n",
              "1                                  11/22/63: A Novel   \n",
              "2            12 Rules for Life: An Antidote to Chaos   \n",
              "3                             1984 (Signet Classics)   \n",
              "4  5,000 Awesome Facts (About Everything!) (Natio...   \n",
              "\n",
              "                     Author  User Rating  Reviews  Price  Year        Genre  \n",
              "0                  JJ Smith          4.7    17350      8  2016  Non Fiction  \n",
              "1              Stephen King          4.6     2052     22  2011      Fiction  \n",
              "2        Jordan B. Peterson          4.7    18979     15  2018  Non Fiction  \n",
              "3             George Orwell          4.7    21424      6  2017      Fiction  \n",
              "4  National Geographic Kids          4.8     7665     12  2019  Non Fiction  "
            ],
            "text/html": [
              "\n",
              "  <div id=\"df-93e44f08-e19c-4c87-8654-b9cfd1e5e7bb\" class=\"colab-df-container\">\n",
              "    <div>\n",
              "<style scoped>\n",
              "    .dataframe tbody tr th:only-of-type {\n",
              "        vertical-align: middle;\n",
              "    }\n",
              "\n",
              "    .dataframe tbody tr th {\n",
              "        vertical-align: top;\n",
              "    }\n",
              "\n",
              "    .dataframe thead th {\n",
              "        text-align: right;\n",
              "    }\n",
              "</style>\n",
              "<table border=\"1\" class=\"dataframe\">\n",
              "  <thead>\n",
              "    <tr style=\"text-align: right;\">\n",
              "      <th></th>\n",
              "      <th>Name</th>\n",
              "      <th>Author</th>\n",
              "      <th>User Rating</th>\n",
              "      <th>Reviews</th>\n",
              "      <th>Price</th>\n",
              "      <th>Year</th>\n",
              "      <th>Genre</th>\n",
              "    </tr>\n",
              "  </thead>\n",
              "  <tbody>\n",
              "    <tr>\n",
              "      <th>0</th>\n",
              "      <td>10-Day Green Smoothie Cleanse</td>\n",
              "      <td>JJ Smith</td>\n",
              "      <td>4.7</td>\n",
              "      <td>17350</td>\n",
              "      <td>8</td>\n",
              "      <td>2016</td>\n",
              "      <td>Non Fiction</td>\n",
              "    </tr>\n",
              "    <tr>\n",
              "      <th>1</th>\n",
              "      <td>11/22/63: A Novel</td>\n",
              "      <td>Stephen King</td>\n",
              "      <td>4.6</td>\n",
              "      <td>2052</td>\n",
              "      <td>22</td>\n",
              "      <td>2011</td>\n",
              "      <td>Fiction</td>\n",
              "    </tr>\n",
              "    <tr>\n",
              "      <th>2</th>\n",
              "      <td>12 Rules for Life: An Antidote to Chaos</td>\n",
              "      <td>Jordan B. Peterson</td>\n",
              "      <td>4.7</td>\n",
              "      <td>18979</td>\n",
              "      <td>15</td>\n",
              "      <td>2018</td>\n",
              "      <td>Non Fiction</td>\n",
              "    </tr>\n",
              "    <tr>\n",
              "      <th>3</th>\n",
              "      <td>1984 (Signet Classics)</td>\n",
              "      <td>George Orwell</td>\n",
              "      <td>4.7</td>\n",
              "      <td>21424</td>\n",
              "      <td>6</td>\n",
              "      <td>2017</td>\n",
              "      <td>Fiction</td>\n",
              "    </tr>\n",
              "    <tr>\n",
              "      <th>4</th>\n",
              "      <td>5,000 Awesome Facts (About Everything!) (Natio...</td>\n",
              "      <td>National Geographic Kids</td>\n",
              "      <td>4.8</td>\n",
              "      <td>7665</td>\n",
              "      <td>12</td>\n",
              "      <td>2019</td>\n",
              "      <td>Non Fiction</td>\n",
              "    </tr>\n",
              "  </tbody>\n",
              "</table>\n",
              "</div>\n",
              "    <div class=\"colab-df-buttons\">\n",
              "\n",
              "  <div class=\"colab-df-container\">\n",
              "    <button class=\"colab-df-convert\" onclick=\"convertToInteractive('df-93e44f08-e19c-4c87-8654-b9cfd1e5e7bb')\"\n",
              "            title=\"Convert this dataframe to an interactive table.\"\n",
              "            style=\"display:none;\">\n",
              "\n",
              "  <svg xmlns=\"http://www.w3.org/2000/svg\" height=\"24px\" viewBox=\"0 -960 960 960\">\n",
              "    <path d=\"M120-120v-720h720v720H120Zm60-500h600v-160H180v160Zm220 220h160v-160H400v160Zm0 220h160v-160H400v160ZM180-400h160v-160H180v160Zm440 0h160v-160H620v160ZM180-180h160v-160H180v160Zm440 0h160v-160H620v160Z\"/>\n",
              "  </svg>\n",
              "    </button>\n",
              "\n",
              "  <style>\n",
              "    .colab-df-container {\n",
              "      display:flex;\n",
              "      gap: 12px;\n",
              "    }\n",
              "\n",
              "    .colab-df-convert {\n",
              "      background-color: #E8F0FE;\n",
              "      border: none;\n",
              "      border-radius: 50%;\n",
              "      cursor: pointer;\n",
              "      display: none;\n",
              "      fill: #1967D2;\n",
              "      height: 32px;\n",
              "      padding: 0 0 0 0;\n",
              "      width: 32px;\n",
              "    }\n",
              "\n",
              "    .colab-df-convert:hover {\n",
              "      background-color: #E2EBFA;\n",
              "      box-shadow: 0px 1px 2px rgba(60, 64, 67, 0.3), 0px 1px 3px 1px rgba(60, 64, 67, 0.15);\n",
              "      fill: #174EA6;\n",
              "    }\n",
              "\n",
              "    .colab-df-buttons div {\n",
              "      margin-bottom: 4px;\n",
              "    }\n",
              "\n",
              "    [theme=dark] .colab-df-convert {\n",
              "      background-color: #3B4455;\n",
              "      fill: #D2E3FC;\n",
              "    }\n",
              "\n",
              "    [theme=dark] .colab-df-convert:hover {\n",
              "      background-color: #434B5C;\n",
              "      box-shadow: 0px 1px 3px 1px rgba(0, 0, 0, 0.15);\n",
              "      filter: drop-shadow(0px 1px 2px rgba(0, 0, 0, 0.3));\n",
              "      fill: #FFFFFF;\n",
              "    }\n",
              "  </style>\n",
              "\n",
              "    <script>\n",
              "      const buttonEl =\n",
              "        document.querySelector('#df-93e44f08-e19c-4c87-8654-b9cfd1e5e7bb button.colab-df-convert');\n",
              "      buttonEl.style.display =\n",
              "        google.colab.kernel.accessAllowed ? 'block' : 'none';\n",
              "\n",
              "      async function convertToInteractive(key) {\n",
              "        const element = document.querySelector('#df-93e44f08-e19c-4c87-8654-b9cfd1e5e7bb');\n",
              "        const dataTable =\n",
              "          await google.colab.kernel.invokeFunction('convertToInteractive',\n",
              "                                                    [key], {});\n",
              "        if (!dataTable) return;\n",
              "\n",
              "        const docLinkHtml = 'Like what you see? Visit the ' +\n",
              "          '<a target=\"_blank\" href=https://colab.research.google.com/notebooks/data_table.ipynb>data table notebook</a>'\n",
              "          + ' to learn more about interactive tables.';\n",
              "        element.innerHTML = '';\n",
              "        dataTable['output_type'] = 'display_data';\n",
              "        await google.colab.output.renderOutput(dataTable, element);\n",
              "        const docLink = document.createElement('div');\n",
              "        docLink.innerHTML = docLinkHtml;\n",
              "        element.appendChild(docLink);\n",
              "      }\n",
              "    </script>\n",
              "  </div>\n",
              "\n",
              "\n",
              "<div id=\"df-7fa1b0bf-e55f-49b8-96b9-19b006825c8b\">\n",
              "  <button class=\"colab-df-quickchart\" onclick=\"quickchart('df-7fa1b0bf-e55f-49b8-96b9-19b006825c8b')\"\n",
              "            title=\"Suggest charts\"\n",
              "            style=\"display:none;\">\n",
              "\n",
              "<svg xmlns=\"http://www.w3.org/2000/svg\" height=\"24px\"viewBox=\"0 0 24 24\"\n",
              "     width=\"24px\">\n",
              "    <g>\n",
              "        <path d=\"M19 3H5c-1.1 0-2 .9-2 2v14c0 1.1.9 2 2 2h14c1.1 0 2-.9 2-2V5c0-1.1-.9-2-2-2zM9 17H7v-7h2v7zm4 0h-2V7h2v10zm4 0h-2v-4h2v4z\"/>\n",
              "    </g>\n",
              "</svg>\n",
              "  </button>\n",
              "\n",
              "<style>\n",
              "  .colab-df-quickchart {\n",
              "      --bg-color: #E8F0FE;\n",
              "      --fill-color: #1967D2;\n",
              "      --hover-bg-color: #E2EBFA;\n",
              "      --hover-fill-color: #174EA6;\n",
              "      --disabled-fill-color: #AAA;\n",
              "      --disabled-bg-color: #DDD;\n",
              "  }\n",
              "\n",
              "  [theme=dark] .colab-df-quickchart {\n",
              "      --bg-color: #3B4455;\n",
              "      --fill-color: #D2E3FC;\n",
              "      --hover-bg-color: #434B5C;\n",
              "      --hover-fill-color: #FFFFFF;\n",
              "      --disabled-bg-color: #3B4455;\n",
              "      --disabled-fill-color: #666;\n",
              "  }\n",
              "\n",
              "  .colab-df-quickchart {\n",
              "    background-color: var(--bg-color);\n",
              "    border: none;\n",
              "    border-radius: 50%;\n",
              "    cursor: pointer;\n",
              "    display: none;\n",
              "    fill: var(--fill-color);\n",
              "    height: 32px;\n",
              "    padding: 0;\n",
              "    width: 32px;\n",
              "  }\n",
              "\n",
              "  .colab-df-quickchart:hover {\n",
              "    background-color: var(--hover-bg-color);\n",
              "    box-shadow: 0 1px 2px rgba(60, 64, 67, 0.3), 0 1px 3px 1px rgba(60, 64, 67, 0.15);\n",
              "    fill: var(--button-hover-fill-color);\n",
              "  }\n",
              "\n",
              "  .colab-df-quickchart-complete:disabled,\n",
              "  .colab-df-quickchart-complete:disabled:hover {\n",
              "    background-color: var(--disabled-bg-color);\n",
              "    fill: var(--disabled-fill-color);\n",
              "    box-shadow: none;\n",
              "  }\n",
              "\n",
              "  .colab-df-spinner {\n",
              "    border: 2px solid var(--fill-color);\n",
              "    border-color: transparent;\n",
              "    border-bottom-color: var(--fill-color);\n",
              "    animation:\n",
              "      spin 1s steps(1) infinite;\n",
              "  }\n",
              "\n",
              "  @keyframes spin {\n",
              "    0% {\n",
              "      border-color: transparent;\n",
              "      border-bottom-color: var(--fill-color);\n",
              "      border-left-color: var(--fill-color);\n",
              "    }\n",
              "    20% {\n",
              "      border-color: transparent;\n",
              "      border-left-color: var(--fill-color);\n",
              "      border-top-color: var(--fill-color);\n",
              "    }\n",
              "    30% {\n",
              "      border-color: transparent;\n",
              "      border-left-color: var(--fill-color);\n",
              "      border-top-color: var(--fill-color);\n",
              "      border-right-color: var(--fill-color);\n",
              "    }\n",
              "    40% {\n",
              "      border-color: transparent;\n",
              "      border-right-color: var(--fill-color);\n",
              "      border-top-color: var(--fill-color);\n",
              "    }\n",
              "    60% {\n",
              "      border-color: transparent;\n",
              "      border-right-color: var(--fill-color);\n",
              "    }\n",
              "    80% {\n",
              "      border-color: transparent;\n",
              "      border-right-color: var(--fill-color);\n",
              "      border-bottom-color: var(--fill-color);\n",
              "    }\n",
              "    90% {\n",
              "      border-color: transparent;\n",
              "      border-bottom-color: var(--fill-color);\n",
              "    }\n",
              "  }\n",
              "</style>\n",
              "\n",
              "  <script>\n",
              "    async function quickchart(key) {\n",
              "      const quickchartButtonEl =\n",
              "        document.querySelector('#' + key + ' button');\n",
              "      quickchartButtonEl.disabled = true;  // To prevent multiple clicks.\n",
              "      quickchartButtonEl.classList.add('colab-df-spinner');\n",
              "      try {\n",
              "        const charts = await google.colab.kernel.invokeFunction(\n",
              "            'suggestCharts', [key], {});\n",
              "      } catch (error) {\n",
              "        console.error('Error during call to suggestCharts:', error);\n",
              "      }\n",
              "      quickchartButtonEl.classList.remove('colab-df-spinner');\n",
              "      quickchartButtonEl.classList.add('colab-df-quickchart-complete');\n",
              "    }\n",
              "    (() => {\n",
              "      let quickchartButtonEl =\n",
              "        document.querySelector('#df-7fa1b0bf-e55f-49b8-96b9-19b006825c8b button');\n",
              "      quickchartButtonEl.style.display =\n",
              "        google.colab.kernel.accessAllowed ? 'block' : 'none';\n",
              "    })();\n",
              "  </script>\n",
              "</div>\n",
              "    </div>\n",
              "  </div>\n"
            ],
            "application/vnd.google.colaboratory.intrinsic+json": {
              "type": "dataframe",
              "variable_name": "df",
              "summary": "{\n  \"name\": \"df\",\n  \"rows\": 550,\n  \"fields\": [\n    {\n      \"column\": \"Name\",\n      \"properties\": {\n        \"dtype\": \"string\",\n        \"num_unique_values\": 351,\n        \"samples\": [\n          \"Life\",\n          \"Where the Crawdads Sing\",\n          \"Thinking, Fast and Slow\"\n        ],\n        \"semantic_type\": \"\",\n        \"description\": \"\"\n      }\n    },\n    {\n      \"column\": \"Author\",\n      \"properties\": {\n        \"dtype\": \"category\",\n        \"num_unique_values\": 248,\n        \"samples\": [\n          \"Jeff Kinney\",\n          \"Amor Towles\",\n          \"Stieg Larsson\"\n        ],\n        \"semantic_type\": \"\",\n        \"description\": \"\"\n      }\n    },\n    {\n      \"column\": \"User Rating\",\n      \"properties\": {\n        \"dtype\": \"number\",\n        \"std\": 0.2269803650251963,\n        \"min\": 3.3,\n        \"max\": 4.9,\n        \"num_unique_values\": 14,\n        \"samples\": [\n          3.8,\n          4.0,\n          4.7\n        ],\n        \"semantic_type\": \"\",\n        \"description\": \"\"\n      }\n    },\n    {\n      \"column\": \"Reviews\",\n      \"properties\": {\n        \"dtype\": \"number\",\n        \"std\": 11731,\n        \"min\": 37,\n        \"max\": 87841,\n        \"num_unique_values\": 346,\n        \"samples\": [\n          5972,\n          1884,\n          49288\n        ],\n        \"semantic_type\": \"\",\n        \"description\": \"\"\n      }\n    },\n    {\n      \"column\": \"Price\",\n      \"properties\": {\n        \"dtype\": \"number\",\n        \"std\": 10,\n        \"min\": 0,\n        \"max\": 105,\n        \"num_unique_values\": 40,\n        \"samples\": [\n          0,\n          24,\n          9\n        ],\n        \"semantic_type\": \"\",\n        \"description\": \"\"\n      }\n    },\n    {\n      \"column\": \"Year\",\n      \"properties\": {\n        \"dtype\": \"number\",\n        \"std\": 3,\n        \"min\": 2009,\n        \"max\": 2019,\n        \"num_unique_values\": 11,\n        \"samples\": [\n          2014,\n          2016,\n          2013\n        ],\n        \"semantic_type\": \"\",\n        \"description\": \"\"\n      }\n    },\n    {\n      \"column\": \"Genre\",\n      \"properties\": {\n        \"dtype\": \"category\",\n        \"num_unique_values\": 2,\n        \"samples\": [\n          \"Fiction\",\n          \"Non Fiction\"\n        ],\n        \"semantic_type\": \"\",\n        \"description\": \"\"\n      }\n    }\n  ]\n}"
            }
          },
          "metadata": {},
          "execution_count": 14
        }
      ],
      "source": [
        "import numpy as np\n",
        "import seaborn as sns\n",
        "import matplotlib.pyplot as plt\n",
        "import pandas as pd\n",
        "from google.colab import drive\n",
        "\n",
        "# Монтуємо Google Drive\n",
        "drive.mount('/content/drive')\n",
        "\n",
        "# Шлях до файлу на Google Drive\n",
        "path = '/content/drive/My Drive/Colab Notebooks/HW_2/bestsellers with categories.csv'\n",
        "\n",
        "# Читаємо CSV файл\n",
        "df = pd.read_csv(path)\n",
        "\n",
        "# Виводимо перші рядки DataFrame\n",
        "df.head()"
      ]
    },
    {
      "cell_type": "markdown",
      "source": [
        "Виведіть розміри датасету (використовуйте атрибут shape)"
      ],
      "metadata": {
        "id": "CTjyckV8KR7Y"
      }
    },
    {
      "cell_type": "code",
      "source": [
        "df.shape"
      ],
      "metadata": {
        "colab": {
          "base_uri": "https://localhost:8080/"
        },
        "id": "kSX2yaP4KCHg",
        "outputId": "12b84a61-d75c-4a6f-a27d-bdb1782523f2"
      },
      "execution_count": 15,
      "outputs": [
        {
          "output_type": "execute_result",
          "data": {
            "text/plain": [
              "(550, 7)"
            ]
          },
          "metadata": {},
          "execution_count": 15
        }
      ]
    },
    {
      "cell_type": "markdown",
      "source": [
        "Про скільки книг зберігає дані датасет?\n",
        "**Dataset save data about 351 name's of books**"
      ],
      "metadata": {
        "id": "VDxJ8X2zKXZH"
      }
    },
    {
      "cell_type": "code",
      "source": [
        "df['Name'].nunique()"
      ],
      "metadata": {
        "colab": {
          "base_uri": "https://localhost:8080/"
        },
        "id": "aN_8qmC1KYpP",
        "outputId": "a83b1f32-0c29-4670-d089-2b91529bb36e"
      },
      "execution_count": 16,
      "outputs": [
        {
          "output_type": "execute_result",
          "data": {
            "text/plain": [
              "351"
            ]
          },
          "metadata": {},
          "execution_count": 16
        }
      ]
    },
    {
      "cell_type": "code",
      "source": [
        "df.columns = ['name', 'author', 'user_rating', 'reviews', 'price', 'year', 'genre']\n",
        "df"
      ],
      "metadata": {
        "colab": {
          "base_uri": "https://localhost:8080/",
          "height": 424
        },
        "id": "VPQnzJt-Ljcm",
        "outputId": "38f0ad0c-b02c-4c47-ceb0-91792d005cdf"
      },
      "execution_count": 17,
      "outputs": [
        {
          "output_type": "execute_result",
          "data": {
            "text/plain": [
              "                                                  name  \\\n",
              "0                        10-Day Green Smoothie Cleanse   \n",
              "1                                    11/22/63: A Novel   \n",
              "2              12 Rules for Life: An Antidote to Chaos   \n",
              "3                               1984 (Signet Classics)   \n",
              "4    5,000 Awesome Facts (About Everything!) (Natio...   \n",
              "..                                                 ...   \n",
              "545       Wrecking Ball (Diary of a Wimpy Kid Book 14)   \n",
              "546  You Are a Badass: How to Stop Doubting Your Gr...   \n",
              "547  You Are a Badass: How to Stop Doubting Your Gr...   \n",
              "548  You Are a Badass: How to Stop Doubting Your Gr...   \n",
              "549  You Are a Badass: How to Stop Doubting Your Gr...   \n",
              "\n",
              "                       author  user_rating  reviews  price  year        genre  \n",
              "0                    JJ Smith          4.7    17350      8  2016  Non Fiction  \n",
              "1                Stephen King          4.6     2052     22  2011      Fiction  \n",
              "2          Jordan B. Peterson          4.7    18979     15  2018  Non Fiction  \n",
              "3               George Orwell          4.7    21424      6  2017      Fiction  \n",
              "4    National Geographic Kids          4.8     7665     12  2019  Non Fiction  \n",
              "..                        ...          ...      ...    ...   ...          ...  \n",
              "545               Jeff Kinney          4.9     9413      8  2019      Fiction  \n",
              "546               Jen Sincero          4.7    14331      8  2016  Non Fiction  \n",
              "547               Jen Sincero          4.7    14331      8  2017  Non Fiction  \n",
              "548               Jen Sincero          4.7    14331      8  2018  Non Fiction  \n",
              "549               Jen Sincero          4.7    14331      8  2019  Non Fiction  \n",
              "\n",
              "[550 rows x 7 columns]"
            ],
            "text/html": [
              "\n",
              "  <div id=\"df-c2757be0-c642-408d-9edc-16718b20dd2b\" class=\"colab-df-container\">\n",
              "    <div>\n",
              "<style scoped>\n",
              "    .dataframe tbody tr th:only-of-type {\n",
              "        vertical-align: middle;\n",
              "    }\n",
              "\n",
              "    .dataframe tbody tr th {\n",
              "        vertical-align: top;\n",
              "    }\n",
              "\n",
              "    .dataframe thead th {\n",
              "        text-align: right;\n",
              "    }\n",
              "</style>\n",
              "<table border=\"1\" class=\"dataframe\">\n",
              "  <thead>\n",
              "    <tr style=\"text-align: right;\">\n",
              "      <th></th>\n",
              "      <th>name</th>\n",
              "      <th>author</th>\n",
              "      <th>user_rating</th>\n",
              "      <th>reviews</th>\n",
              "      <th>price</th>\n",
              "      <th>year</th>\n",
              "      <th>genre</th>\n",
              "    </tr>\n",
              "  </thead>\n",
              "  <tbody>\n",
              "    <tr>\n",
              "      <th>0</th>\n",
              "      <td>10-Day Green Smoothie Cleanse</td>\n",
              "      <td>JJ Smith</td>\n",
              "      <td>4.7</td>\n",
              "      <td>17350</td>\n",
              "      <td>8</td>\n",
              "      <td>2016</td>\n",
              "      <td>Non Fiction</td>\n",
              "    </tr>\n",
              "    <tr>\n",
              "      <th>1</th>\n",
              "      <td>11/22/63: A Novel</td>\n",
              "      <td>Stephen King</td>\n",
              "      <td>4.6</td>\n",
              "      <td>2052</td>\n",
              "      <td>22</td>\n",
              "      <td>2011</td>\n",
              "      <td>Fiction</td>\n",
              "    </tr>\n",
              "    <tr>\n",
              "      <th>2</th>\n",
              "      <td>12 Rules for Life: An Antidote to Chaos</td>\n",
              "      <td>Jordan B. Peterson</td>\n",
              "      <td>4.7</td>\n",
              "      <td>18979</td>\n",
              "      <td>15</td>\n",
              "      <td>2018</td>\n",
              "      <td>Non Fiction</td>\n",
              "    </tr>\n",
              "    <tr>\n",
              "      <th>3</th>\n",
              "      <td>1984 (Signet Classics)</td>\n",
              "      <td>George Orwell</td>\n",
              "      <td>4.7</td>\n",
              "      <td>21424</td>\n",
              "      <td>6</td>\n",
              "      <td>2017</td>\n",
              "      <td>Fiction</td>\n",
              "    </tr>\n",
              "    <tr>\n",
              "      <th>4</th>\n",
              "      <td>5,000 Awesome Facts (About Everything!) (Natio...</td>\n",
              "      <td>National Geographic Kids</td>\n",
              "      <td>4.8</td>\n",
              "      <td>7665</td>\n",
              "      <td>12</td>\n",
              "      <td>2019</td>\n",
              "      <td>Non Fiction</td>\n",
              "    </tr>\n",
              "    <tr>\n",
              "      <th>...</th>\n",
              "      <td>...</td>\n",
              "      <td>...</td>\n",
              "      <td>...</td>\n",
              "      <td>...</td>\n",
              "      <td>...</td>\n",
              "      <td>...</td>\n",
              "      <td>...</td>\n",
              "    </tr>\n",
              "    <tr>\n",
              "      <th>545</th>\n",
              "      <td>Wrecking Ball (Diary of a Wimpy Kid Book 14)</td>\n",
              "      <td>Jeff Kinney</td>\n",
              "      <td>4.9</td>\n",
              "      <td>9413</td>\n",
              "      <td>8</td>\n",
              "      <td>2019</td>\n",
              "      <td>Fiction</td>\n",
              "    </tr>\n",
              "    <tr>\n",
              "      <th>546</th>\n",
              "      <td>You Are a Badass: How to Stop Doubting Your Gr...</td>\n",
              "      <td>Jen Sincero</td>\n",
              "      <td>4.7</td>\n",
              "      <td>14331</td>\n",
              "      <td>8</td>\n",
              "      <td>2016</td>\n",
              "      <td>Non Fiction</td>\n",
              "    </tr>\n",
              "    <tr>\n",
              "      <th>547</th>\n",
              "      <td>You Are a Badass: How to Stop Doubting Your Gr...</td>\n",
              "      <td>Jen Sincero</td>\n",
              "      <td>4.7</td>\n",
              "      <td>14331</td>\n",
              "      <td>8</td>\n",
              "      <td>2017</td>\n",
              "      <td>Non Fiction</td>\n",
              "    </tr>\n",
              "    <tr>\n",
              "      <th>548</th>\n",
              "      <td>You Are a Badass: How to Stop Doubting Your Gr...</td>\n",
              "      <td>Jen Sincero</td>\n",
              "      <td>4.7</td>\n",
              "      <td>14331</td>\n",
              "      <td>8</td>\n",
              "      <td>2018</td>\n",
              "      <td>Non Fiction</td>\n",
              "    </tr>\n",
              "    <tr>\n",
              "      <th>549</th>\n",
              "      <td>You Are a Badass: How to Stop Doubting Your Gr...</td>\n",
              "      <td>Jen Sincero</td>\n",
              "      <td>4.7</td>\n",
              "      <td>14331</td>\n",
              "      <td>8</td>\n",
              "      <td>2019</td>\n",
              "      <td>Non Fiction</td>\n",
              "    </tr>\n",
              "  </tbody>\n",
              "</table>\n",
              "<p>550 rows × 7 columns</p>\n",
              "</div>\n",
              "    <div class=\"colab-df-buttons\">\n",
              "\n",
              "  <div class=\"colab-df-container\">\n",
              "    <button class=\"colab-df-convert\" onclick=\"convertToInteractive('df-c2757be0-c642-408d-9edc-16718b20dd2b')\"\n",
              "            title=\"Convert this dataframe to an interactive table.\"\n",
              "            style=\"display:none;\">\n",
              "\n",
              "  <svg xmlns=\"http://www.w3.org/2000/svg\" height=\"24px\" viewBox=\"0 -960 960 960\">\n",
              "    <path d=\"M120-120v-720h720v720H120Zm60-500h600v-160H180v160Zm220 220h160v-160H400v160Zm0 220h160v-160H400v160ZM180-400h160v-160H180v160Zm440 0h160v-160H620v160ZM180-180h160v-160H180v160Zm440 0h160v-160H620v160Z\"/>\n",
              "  </svg>\n",
              "    </button>\n",
              "\n",
              "  <style>\n",
              "    .colab-df-container {\n",
              "      display:flex;\n",
              "      gap: 12px;\n",
              "    }\n",
              "\n",
              "    .colab-df-convert {\n",
              "      background-color: #E8F0FE;\n",
              "      border: none;\n",
              "      border-radius: 50%;\n",
              "      cursor: pointer;\n",
              "      display: none;\n",
              "      fill: #1967D2;\n",
              "      height: 32px;\n",
              "      padding: 0 0 0 0;\n",
              "      width: 32px;\n",
              "    }\n",
              "\n",
              "    .colab-df-convert:hover {\n",
              "      background-color: #E2EBFA;\n",
              "      box-shadow: 0px 1px 2px rgba(60, 64, 67, 0.3), 0px 1px 3px 1px rgba(60, 64, 67, 0.15);\n",
              "      fill: #174EA6;\n",
              "    }\n",
              "\n",
              "    .colab-df-buttons div {\n",
              "      margin-bottom: 4px;\n",
              "    }\n",
              "\n",
              "    [theme=dark] .colab-df-convert {\n",
              "      background-color: #3B4455;\n",
              "      fill: #D2E3FC;\n",
              "    }\n",
              "\n",
              "    [theme=dark] .colab-df-convert:hover {\n",
              "      background-color: #434B5C;\n",
              "      box-shadow: 0px 1px 3px 1px rgba(0, 0, 0, 0.15);\n",
              "      filter: drop-shadow(0px 1px 2px rgba(0, 0, 0, 0.3));\n",
              "      fill: #FFFFFF;\n",
              "    }\n",
              "  </style>\n",
              "\n",
              "    <script>\n",
              "      const buttonEl =\n",
              "        document.querySelector('#df-c2757be0-c642-408d-9edc-16718b20dd2b button.colab-df-convert');\n",
              "      buttonEl.style.display =\n",
              "        google.colab.kernel.accessAllowed ? 'block' : 'none';\n",
              "\n",
              "      async function convertToInteractive(key) {\n",
              "        const element = document.querySelector('#df-c2757be0-c642-408d-9edc-16718b20dd2b');\n",
              "        const dataTable =\n",
              "          await google.colab.kernel.invokeFunction('convertToInteractive',\n",
              "                                                    [key], {});\n",
              "        if (!dataTable) return;\n",
              "\n",
              "        const docLinkHtml = 'Like what you see? Visit the ' +\n",
              "          '<a target=\"_blank\" href=https://colab.research.google.com/notebooks/data_table.ipynb>data table notebook</a>'\n",
              "          + ' to learn more about interactive tables.';\n",
              "        element.innerHTML = '';\n",
              "        dataTable['output_type'] = 'display_data';\n",
              "        await google.colab.output.renderOutput(dataTable, element);\n",
              "        const docLink = document.createElement('div');\n",
              "        docLink.innerHTML = docLinkHtml;\n",
              "        element.appendChild(docLink);\n",
              "      }\n",
              "    </script>\n",
              "  </div>\n",
              "\n",
              "\n",
              "<div id=\"df-b59e11a8-cdb1-47c3-9f3a-edd2f78bb43c\">\n",
              "  <button class=\"colab-df-quickchart\" onclick=\"quickchart('df-b59e11a8-cdb1-47c3-9f3a-edd2f78bb43c')\"\n",
              "            title=\"Suggest charts\"\n",
              "            style=\"display:none;\">\n",
              "\n",
              "<svg xmlns=\"http://www.w3.org/2000/svg\" height=\"24px\"viewBox=\"0 0 24 24\"\n",
              "     width=\"24px\">\n",
              "    <g>\n",
              "        <path d=\"M19 3H5c-1.1 0-2 .9-2 2v14c0 1.1.9 2 2 2h14c1.1 0 2-.9 2-2V5c0-1.1-.9-2-2-2zM9 17H7v-7h2v7zm4 0h-2V7h2v10zm4 0h-2v-4h2v4z\"/>\n",
              "    </g>\n",
              "</svg>\n",
              "  </button>\n",
              "\n",
              "<style>\n",
              "  .colab-df-quickchart {\n",
              "      --bg-color: #E8F0FE;\n",
              "      --fill-color: #1967D2;\n",
              "      --hover-bg-color: #E2EBFA;\n",
              "      --hover-fill-color: #174EA6;\n",
              "      --disabled-fill-color: #AAA;\n",
              "      --disabled-bg-color: #DDD;\n",
              "  }\n",
              "\n",
              "  [theme=dark] .colab-df-quickchart {\n",
              "      --bg-color: #3B4455;\n",
              "      --fill-color: #D2E3FC;\n",
              "      --hover-bg-color: #434B5C;\n",
              "      --hover-fill-color: #FFFFFF;\n",
              "      --disabled-bg-color: #3B4455;\n",
              "      --disabled-fill-color: #666;\n",
              "  }\n",
              "\n",
              "  .colab-df-quickchart {\n",
              "    background-color: var(--bg-color);\n",
              "    border: none;\n",
              "    border-radius: 50%;\n",
              "    cursor: pointer;\n",
              "    display: none;\n",
              "    fill: var(--fill-color);\n",
              "    height: 32px;\n",
              "    padding: 0;\n",
              "    width: 32px;\n",
              "  }\n",
              "\n",
              "  .colab-df-quickchart:hover {\n",
              "    background-color: var(--hover-bg-color);\n",
              "    box-shadow: 0 1px 2px rgba(60, 64, 67, 0.3), 0 1px 3px 1px rgba(60, 64, 67, 0.15);\n",
              "    fill: var(--button-hover-fill-color);\n",
              "  }\n",
              "\n",
              "  .colab-df-quickchart-complete:disabled,\n",
              "  .colab-df-quickchart-complete:disabled:hover {\n",
              "    background-color: var(--disabled-bg-color);\n",
              "    fill: var(--disabled-fill-color);\n",
              "    box-shadow: none;\n",
              "  }\n",
              "\n",
              "  .colab-df-spinner {\n",
              "    border: 2px solid var(--fill-color);\n",
              "    border-color: transparent;\n",
              "    border-bottom-color: var(--fill-color);\n",
              "    animation:\n",
              "      spin 1s steps(1) infinite;\n",
              "  }\n",
              "\n",
              "  @keyframes spin {\n",
              "    0% {\n",
              "      border-color: transparent;\n",
              "      border-bottom-color: var(--fill-color);\n",
              "      border-left-color: var(--fill-color);\n",
              "    }\n",
              "    20% {\n",
              "      border-color: transparent;\n",
              "      border-left-color: var(--fill-color);\n",
              "      border-top-color: var(--fill-color);\n",
              "    }\n",
              "    30% {\n",
              "      border-color: transparent;\n",
              "      border-left-color: var(--fill-color);\n",
              "      border-top-color: var(--fill-color);\n",
              "      border-right-color: var(--fill-color);\n",
              "    }\n",
              "    40% {\n",
              "      border-color: transparent;\n",
              "      border-right-color: var(--fill-color);\n",
              "      border-top-color: var(--fill-color);\n",
              "    }\n",
              "    60% {\n",
              "      border-color: transparent;\n",
              "      border-right-color: var(--fill-color);\n",
              "    }\n",
              "    80% {\n",
              "      border-color: transparent;\n",
              "      border-right-color: var(--fill-color);\n",
              "      border-bottom-color: var(--fill-color);\n",
              "    }\n",
              "    90% {\n",
              "      border-color: transparent;\n",
              "      border-bottom-color: var(--fill-color);\n",
              "    }\n",
              "  }\n",
              "</style>\n",
              "\n",
              "  <script>\n",
              "    async function quickchart(key) {\n",
              "      const quickchartButtonEl =\n",
              "        document.querySelector('#' + key + ' button');\n",
              "      quickchartButtonEl.disabled = true;  // To prevent multiple clicks.\n",
              "      quickchartButtonEl.classList.add('colab-df-spinner');\n",
              "      try {\n",
              "        const charts = await google.colab.kernel.invokeFunction(\n",
              "            'suggestCharts', [key], {});\n",
              "      } catch (error) {\n",
              "        console.error('Error during call to suggestCharts:', error);\n",
              "      }\n",
              "      quickchartButtonEl.classList.remove('colab-df-spinner');\n",
              "      quickchartButtonEl.classList.add('colab-df-quickchart-complete');\n",
              "    }\n",
              "    (() => {\n",
              "      let quickchartButtonEl =\n",
              "        document.querySelector('#df-b59e11a8-cdb1-47c3-9f3a-edd2f78bb43c button');\n",
              "      quickchartButtonEl.style.display =\n",
              "        google.colab.kernel.accessAllowed ? 'block' : 'none';\n",
              "    })();\n",
              "  </script>\n",
              "</div>\n",
              "    </div>\n",
              "  </div>\n"
            ],
            "application/vnd.google.colaboratory.intrinsic+json": {
              "type": "dataframe",
              "variable_name": "df",
              "summary": "{\n  \"name\": \"df\",\n  \"rows\": 550,\n  \"fields\": [\n    {\n      \"column\": \"name\",\n      \"properties\": {\n        \"dtype\": \"string\",\n        \"num_unique_values\": 351,\n        \"samples\": [\n          \"Life\",\n          \"Where the Crawdads Sing\",\n          \"Thinking, Fast and Slow\"\n        ],\n        \"semantic_type\": \"\",\n        \"description\": \"\"\n      }\n    },\n    {\n      \"column\": \"author\",\n      \"properties\": {\n        \"dtype\": \"category\",\n        \"num_unique_values\": 248,\n        \"samples\": [\n          \"Jeff Kinney\",\n          \"Amor Towles\",\n          \"Stieg Larsson\"\n        ],\n        \"semantic_type\": \"\",\n        \"description\": \"\"\n      }\n    },\n    {\n      \"column\": \"user_rating\",\n      \"properties\": {\n        \"dtype\": \"number\",\n        \"std\": 0.2269803650251963,\n        \"min\": 3.3,\n        \"max\": 4.9,\n        \"num_unique_values\": 14,\n        \"samples\": [\n          3.8,\n          4.0,\n          4.7\n        ],\n        \"semantic_type\": \"\",\n        \"description\": \"\"\n      }\n    },\n    {\n      \"column\": \"reviews\",\n      \"properties\": {\n        \"dtype\": \"number\",\n        \"std\": 11731,\n        \"min\": 37,\n        \"max\": 87841,\n        \"num_unique_values\": 346,\n        \"samples\": [\n          5972,\n          1884,\n          49288\n        ],\n        \"semantic_type\": \"\",\n        \"description\": \"\"\n      }\n    },\n    {\n      \"column\": \"price\",\n      \"properties\": {\n        \"dtype\": \"number\",\n        \"std\": 10,\n        \"min\": 0,\n        \"max\": 105,\n        \"num_unique_values\": 40,\n        \"samples\": [\n          0,\n          24,\n          9\n        ],\n        \"semantic_type\": \"\",\n        \"description\": \"\"\n      }\n    },\n    {\n      \"column\": \"year\",\n      \"properties\": {\n        \"dtype\": \"number\",\n        \"std\": 3,\n        \"min\": 2009,\n        \"max\": 2019,\n        \"num_unique_values\": 11,\n        \"samples\": [\n          2014,\n          2016,\n          2013\n        ],\n        \"semantic_type\": \"\",\n        \"description\": \"\"\n      }\n    },\n    {\n      \"column\": \"genre\",\n      \"properties\": {\n        \"dtype\": \"category\",\n        \"num_unique_values\": 2,\n        \"samples\": [\n          \"Fiction\",\n          \"Non Fiction\"\n        ],\n        \"semantic_type\": \"\",\n        \"description\": \"\"\n      }\n    }\n  ]\n}"
            }
          },
          "metadata": {},
          "execution_count": 17
        }
      ]
    },
    {
      "cell_type": "markdown",
      "source": [
        "Перевірте, чи у всіх рядків вистачає даних: виведіть кількість пропусків (na) у кожному зі стовпців (використовуйте функції isna та sum)"
      ],
      "metadata": {
        "id": "_Gu6s1y4LrgN"
      }
    },
    {
      "cell_type": "code",
      "source": [
        "df.dtypes"
      ],
      "metadata": {
        "colab": {
          "base_uri": "https://localhost:8080/"
        },
        "id": "NxysPFhpLsSW",
        "outputId": "5b418615-d8f1-4de3-9c89-cad756fe9e00"
      },
      "execution_count": 18,
      "outputs": [
        {
          "output_type": "execute_result",
          "data": {
            "text/plain": [
              "name            object\n",
              "author          object\n",
              "user_rating    float64\n",
              "reviews          int64\n",
              "price            int64\n",
              "year             int64\n",
              "genre           object\n",
              "dtype: object"
            ]
          },
          "metadata": {},
          "execution_count": 18
        }
      ]
    },
    {
      "cell_type": "code",
      "source": [
        "df.isna().sum()"
      ],
      "metadata": {
        "colab": {
          "base_uri": "https://localhost:8080/"
        },
        "id": "4-r9SEizLzOl",
        "outputId": "56047d3b-0ba1-4280-aa21-9023d1007970"
      },
      "execution_count": 19,
      "outputs": [
        {
          "output_type": "execute_result",
          "data": {
            "text/plain": [
              "name           0\n",
              "author         0\n",
              "user_rating    0\n",
              "reviews        0\n",
              "price          0\n",
              "year           0\n",
              "genre          0\n",
              "dtype: int64"
            ]
          },
          "metadata": {},
          "execution_count": 19
        }
      ]
    },
    {
      "cell_type": "code",
      "source": [
        "df.isnull().sum()"
      ],
      "metadata": {
        "colab": {
          "base_uri": "https://localhost:8080/"
        },
        "id": "LVEq2_j_L_jm",
        "outputId": "17cd301c-1718-47c0-d570-dfc854d6fa64"
      },
      "execution_count": 20,
      "outputs": [
        {
          "output_type": "execute_result",
          "data": {
            "text/plain": [
              "name           0\n",
              "author         0\n",
              "user_rating    0\n",
              "reviews        0\n",
              "price          0\n",
              "year           0\n",
              "genre          0\n",
              "dtype: int64"
            ]
          },
          "metadata": {},
          "execution_count": 20
        }
      ]
    },
    {
      "cell_type": "markdown",
      "source": [
        "Чи є в якихось змінних пропуски? (Так / ні)\n",
        "**NO**"
      ],
      "metadata": {
        "id": "J4nOf_eVMEiG"
      }
    },
    {
      "cell_type": "markdown",
      "source": [
        "Перевірте, які є унікальні значення в колонці genre (використовуйте функцію unique)"
      ],
      "metadata": {
        "id": "26fNtBZVMKqm"
      }
    },
    {
      "cell_type": "code",
      "source": [
        "df['genre'].unique()"
      ],
      "metadata": {
        "colab": {
          "base_uri": "https://localhost:8080/"
        },
        "id": "ORbSc7I3MHf2",
        "outputId": "a12b095b-a557-46d3-8d82-fdc6ee2253cf"
      },
      "execution_count": 21,
      "outputs": [
        {
          "output_type": "execute_result",
          "data": {
            "text/plain": [
              "array(['Non Fiction', 'Fiction'], dtype=object)"
            ]
          },
          "metadata": {},
          "execution_count": 21
        }
      ]
    },
    {
      "cell_type": "markdown",
      "source": [
        "Які є унікальні жанри?\n",
        "**Two types of genre:\n",
        "1: Non Fiction\n",
        "2: Fiction**"
      ],
      "metadata": {
        "id": "8rUsapHlMuo-"
      }
    },
    {
      "cell_type": "markdown",
      "source": [
        "Тепер подивіться на розподіл цін: побудуйте діаграму (використовуйте kind='hist')"
      ],
      "metadata": {
        "id": "VIS4h2DYNH3-"
      }
    },
    {
      "cell_type": "code",
      "source": [
        "# Побудова гістограми розподілу цін\n",
        "df['price'].plot(kind='hist', bins=25, figsize=(12, 6))\n",
        "plt.xlabel('Ціна')\n",
        "plt.ylabel('Частота')\n",
        "plt.title('Розподіл цін книг')\n",
        "plt.show()"
      ],
      "metadata": {
        "colab": {
          "base_uri": "https://localhost:8080/",
          "height": 564
        },
        "id": "Fp6fyDJiMvOU",
        "outputId": "2d7b135f-0a0f-4e55-a167-9f492b1a9f1c"
      },
      "execution_count": 23,
      "outputs": [
        {
          "output_type": "display_data",
          "data": {
            "text/plain": [
              "<Figure size 1200x600 with 1 Axes>"
            ],
            "image/png": "[encoded data removed]"
          },
          "metadata": {}
        }
      ]
    },
    {
      "cell_type": "markdown",
      "source": [
        "Визначте, яка ціна у нас максимальна, мінімальна, середня, медіанна (використовуйте функції max, min, mean, median)"
      ],
      "metadata": {
        "id": "exlkCkBjNy10"
      }
    },
    {
      "cell_type": "code",
      "source": [
        "# Визначення максимальної ціни\n",
        "max_price = df['price'].max()\n",
        "print(\"Максимальна ціна:\", max_price)\n",
        "\n",
        "# Визначення мінімальної ціни\n",
        "min_price = df['price'].min()\n",
        "print(\"Мінімальна ціна:\", min_price)\n",
        "\n",
        "# Визначення середньої ціни\n",
        "mean_price = df['price'].mean()\n",
        "print(\"Середня ціна:\", mean_price)\n",
        "\n",
        "# Визначення медіанної ціни\n",
        "median_price = df['price'].median()\n",
        "print(\"Медіанна ціна:\", median_price)\n"
      ],
      "metadata": {
        "colab": {
          "base_uri": "https://localhost:8080/"
        },
        "id": "0zLKB_KCNzlk",
        "outputId": "0dc49071-0ada-4557-f1ce-4e10c1af669c"
      },
      "execution_count": 24,
      "outputs": [
        {
          "output_type": "stream",
          "name": "stdout",
          "text": [
            "Максимальна ціна: 105\n",
            "Мінімальна ціна: 0\n",
            "Середня ціна: 13.1\n",
            "Медіанна ціна: 11.0\n"
          ]
        }
      ]
    },
    {
      "cell_type": "markdown",
      "source": [
        "Максимальна ціна? **105**\n",
        "Мінімальна ціна? **0**\n",
        "Середня ціна? **13.1**\n",
        "Медіанна ціна? **11.0**"
      ],
      "metadata": {
        "id": "q0UTsycAOHQ9"
      }
    },
    {
      "cell_type": "code",
      "source": [
        "# Задаємо розміри графіка\n",
        "plt.figure(figsize=(10, 6))\n",
        "\n",
        "# Завантажуємо дані\n",
        "x = df['reviews']\n",
        "y = df['price']\n",
        "\n",
        "# Побудова графіка\n",
        "plt.scatter(x, y, alpha=0.5)\n",
        "\n",
        "# Додаємо назви вісей та заголовок\n",
        "plt.xlabel('reviews')\n",
        "plt.ylabel('price')\n",
        "plt.title('Залежність ціни від відгуків')\n",
        "\n",
        "# Відображення графіка\n",
        "plt.show()"
      ],
      "metadata": {
        "colab": {
          "base_uri": "https://localhost:8080/",
          "height": 564
        },
        "id": "pP2HjjjxJPXe",
        "outputId": "3ae93692-06a4-44f6-ae34-88e9d6aca0d4"
      },
      "execution_count": 104,
      "outputs": [
        {
          "output_type": "display_data",
          "data": {
            "text/plain": [
              "<Figure size 1000x600 with 1 Axes>"
            ],
            "image/png": "[encoded data removed]"
          },
          "metadata": {}
        }
      ]
    },
    {
      "cell_type": "markdown",
      "source": [
        "Який рейтинг у датасеті найвищий? Відповідь: **4.9**"
      ],
      "metadata": {
        "id": "bmFel952OVJG"
      }
    },
    {
      "cell_type": "code",
      "source": [
        "# Задаємо розміри графіка\n",
        "plt.figure(figsize=(10, 6))\n",
        "\n",
        "# Завантажуємо дані\n",
        "x = df['user_rating']\n",
        "y = df['price']\n",
        "\n",
        "# Побудова графіка\n",
        "plt.scatter(x, y, alpha=0.5)\n",
        "\n",
        "# Додаємо назви вісей та заголовок\n",
        "plt.xlabel('user_rating')\n",
        "plt.ylabel('price')\n",
        "plt.title('Залежність ціни від рейтингу')\n",
        "\n",
        "# Відображення графіка\n",
        "plt.show()"
      ],
      "metadata": {
        "colab": {
          "base_uri": "https://localhost:8080/",
          "height": 564
        },
        "id": "-Vw7TR1DJdgP",
        "outputId": "b62c132e-5190-44cf-9a9a-012525903566"
      },
      "execution_count": 105,
      "outputs": [
        {
          "output_type": "display_data",
          "data": {
            "text/plain": [
              "<Figure size 1000x600 with 1 Axes>"
            ],
            "image/png": "[encoded data removed]"
          },
          "metadata": {}
        }
      ]
    },
    {
      "cell_type": "code",
      "source": [
        "# Задаємо розміри графіка\n",
        "plt.figure(figsize=(10, 6))\n",
        "\n",
        "# Завантажуємо дані\n",
        "x = df['user_rating']\n",
        "y = df['year']\n",
        "\n",
        "# Побудова графіка\n",
        "plt.scatter(x, y, alpha=0.5)\n",
        "\n",
        "# Додаємо назви вісей та заголовок\n",
        "plt.xlabel('user_rating')\n",
        "plt.ylabel('year')\n",
        "plt.title('Залежність рейтингу від року')\n",
        "\n",
        "# Відображення графіка\n",
        "plt.show()"
      ],
      "metadata": {
        "colab": {
          "base_uri": "https://localhost:8080/",
          "height": 564
        },
        "id": "WhATSsRPJydV",
        "outputId": "0aa8d703-cc73-465f-f2c8-3df0d457b453"
      },
      "execution_count": 106,
      "outputs": [
        {
          "output_type": "display_data",
          "data": {
            "text/plain": [
              "<Figure size 1000x600 with 1 Axes>"
            ],
            "image/png": "[encoded data removed]"
          },
          "metadata": {}
        }
      ]
    },
    {
      "cell_type": "code",
      "source": [
        "# Задаємо розміри графіка\n",
        "plt.figure(figsize=(3, 3))\n",
        "\n",
        "# Завантажуємо дані\n",
        "y = df['user_rating']\n",
        "x = df['genre']\n",
        "\n",
        "# Побудова графіка\n",
        "plt.scatter(x, y, alpha=0.1)\n",
        "\n",
        "# Додаємо назви вісей та заголовок\n",
        "plt.ylabel('user_rating')\n",
        "plt.xlabel('genre')\n",
        "plt.title('Залежність рейтингу від жанру')\n",
        "\n",
        "# Відображення графіка\n",
        "plt.show()"
      ],
      "metadata": {
        "colab": {
          "base_uri": "https://localhost:8080/",
          "height": 333
        },
        "id": "glPowUZkKLPW",
        "outputId": "4ca282d4-6b52-4b15-ae62-df0d79e79316"
      },
      "execution_count": 111,
      "outputs": [
        {
          "output_type": "display_data",
          "data": {
            "text/plain": [
              "<Figure size 300x300 with 1 Axes>"
            ],
            "image/png": "[encoded data removed]"
          },
          "metadata": {}
        }
      ]
    },
    {
      "cell_type": "code",
      "source": [
        "max_user_rating = df['user_rating'].max()\n",
        "print(\"Максимальний рейтинг:\", max_user_rating)"
      ],
      "metadata": {
        "colab": {
          "base_uri": "https://localhost:8080/"
        },
        "id": "XADLzgxQOaus",
        "outputId": "bd2bea48-e9ae-40c4-e250-d60efad55787"
      },
      "execution_count": 25,
      "outputs": [
        {
          "output_type": "stream",
          "name": "stdout",
          "text": [
            "Максимальний рейтинг: 4.9\n"
          ]
        }
      ]
    },
    {
      "cell_type": "markdown",
      "source": [
        "Скільки книг мають такий рейтинг? Відповідь: **28**"
      ],
      "metadata": {
        "id": "2f-Xs6wgP9OE"
      }
    },
    {
      "cell_type": "code",
      "source": [
        "# Фільтрація книг з максимальним рейтингом\n",
        "books_with_max_rating = df[df['user_rating'] == max_user_rating]\n",
        "unique_books = books_with_max_rating.drop_duplicates(subset='name')\n",
        "# Кількість книг з максимальним рейтингом\n",
        "num_books_with_max_rating = len(unique_books)\n",
        "\n",
        "print(\"Кількість книг з найвищим рейтингом:\", num_books_with_max_rating)\n",
        "unique_books_sorted = unique_books.sort_values(by='year')\n",
        "print(unique_books_sorted)\n",
        "\n",
        "# Налаштування відображення даних\n",
        "pd.set_option('display.max_columns', 7)\n",
        "pd.set_option('display.expand_frame_repr', False)\n",
        "pd.set_option('display.max_colwidth', None)\n"
      ],
      "metadata": {
        "colab": {
          "base_uri": "https://localhost:8080/"
        },
        "id": "2bXwTRXpQCaT",
        "outputId": "3e80ddb1-1075-40dc-c730-069b6c2fce90"
      },
      "execution_count": 64,
      "outputs": [
        {
          "output_type": "stream",
          "name": "stdout",
          "text": [
            "Кількість книг з найвищим рейтингом: 28\n",
            "                                                                                                                        name                 author  user_rating  reviews  price  year        genre\n",
            "187                                                Jesus Calling: Enjoying Peace in His Presence (with Scripture References)            Sarah Young          4.9    19576      8  2011  Non Fiction\n",
            "146                          Goodnight, Goodnight Construction Site (Hardcover Books for Toddlers, Preschool Books for Kids)   Sherri Duskey Rinker          4.9     7038      7  2012      Fiction\n",
            "245                                                                                                Oh, the Places You'll Go!              Dr. Seuss          4.9    21834      8  2012      Fiction\n",
            "476                                                                                              The Very Hungry Caterpillar             Eric Carle          4.9    19546      5  2013      Fiction\n",
            "420                                                                                     The Legend of Zelda: Hyrule Historia         Patrick Thorpe          4.9     5396     20  2013      Fiction\n",
            "288                                Rush Revere and the Brave Pilgrims: Time-Travel Adventures with Exceptional Americans (1)          Rush Limbaugh          4.9     7150     12  2013      Fiction\n",
            "289                                Rush Revere and the First Patriots: Time-Travel Adventures With Exceptional Americans (2)          Rush Limbaugh          4.9     3836     12  2014      Fiction\n",
            "219                                                                                                        Little Blue Truck         Alice Schertle          4.9     1884      0  2014      Fiction\n",
            "174                                                                                             Humans of New York : Stories        Brandon Stanton          4.9     2812     17  2015  Non Fiction\n",
            "486                                                                                         The Wonderful Things You Will Be  Emily Winfield Martin          4.9     8842     10  2016      Fiction\n",
            "431                                                                                                       The Magnolia Story            Chip Gaines          4.9     7861      5  2016  Non Fiction\n",
            "151                                                                                                 Hamilton: The Revolution     Lin-Manuel Miranda          4.9     5867     54  2016  Non Fiction\n",
            "153                                  Harry Potter and the Chamber of Secrets: The Illustrated Edition (Harry Potter, Book 2)           J.K. Rowling          4.9    19622     30  2016      Fiction\n",
            "157                                    Harry Potter and the Sorcerer's Stone: The Illustrated Edition (Harry Potter, Book 1)           J.K. Rowling          4.9    10052     22  2016      Fiction\n",
            "244                                                                                              Obama: An Intimate Portrait             Pete Souza          4.9     3192     22  2017  Non Fiction\n",
            "40                                                                                  Brown Bear, Brown Bear, What Do You See?        Bill Martin Jr.          4.9    14344      5  2017      Fiction\n",
            "156                                 Harry Potter and the Prisoner of Azkaban: The Illustrated Edition (Harry Potter, Book 3)           J.K. Rowling          4.9     3146     30  2017      Fiction\n",
            "82                                       Dog Man: A Tale of Two Kitties: From the Creator of Captain Underpants (Dog Man #3)             Dav Pilkey          4.9     4786      8  2017      Fiction\n",
            "87                                           Dog Man: Lord of the Fleas: From the Creator of Captain Underpants (Dog Man #5)             Dav Pilkey          4.9     5470      6  2018      Fiction\n",
            "83                                           Dog Man: Brawl of the Wild: From the Creator of Captain Underpants (Dog Man #6)             Dav Pilkey          4.9     7235      4  2018      Fiction\n",
            "81                                                  Dog Man and Cat Kid: From the Creator of Captain Underpants (Dog Man #4)             Dav Pilkey          4.9     5062      6  2018      Fiction\n",
            "207  Last Week Tonight with John Oliver Presents A Day in the Life of Marlon Bundo (Better Bundo Book, LGBT Childrens Book)             Jill Twiss          4.9    11881     13  2018      Fiction\n",
            "521                                                                                                   Unfreedom of the Press          Mark R. Levin          4.9     5956     11  2019  Non Fiction\n",
            "155                                  Harry Potter and the Goblet of Fire: The Illustrated Edition (Harry Potter, Book 4) (4)          J. K. Rowling          4.9     7758     18  2019      Fiction\n",
            "86                                     Dog Man: For Whom the Ball Rolls: From the Creator of Captain Underpants (Dog Man #7)             Dav Pilkey          4.9     9089      8  2019      Fiction\n",
            "303                                                                                   Strange Planet (Strange Planet Series)         Nathan W. Pyle          4.9     9382      6  2019      Fiction\n",
            "85                                                    Dog Man: Fetch-22: From the Creator of Captain Underpants (Dog Man #8)             Dav Pilkey          4.9    12619      8  2019      Fiction\n",
            "545                                                                             Wrecking Ball (Diary of a Wimpy Kid Book 14)            Jeff Kinney          4.9     9413      8  2019      Fiction\n"
          ]
        }
      ]
    },
    {
      "cell_type": "markdown",
      "source": [
        "Яка книга має найбільше відгуків? Відповідь: **87841**"
      ],
      "metadata": {
        "id": "x7TpNCl2RX-C"
      }
    },
    {
      "cell_type": "code",
      "source": [
        "max_reviews = df['reviews'].max()\n",
        "book_with_max_reviews = df[df['reviews'] == max_reviews]\n",
        "print(\"Книга з найбільшою кількістю відгуків:\")\n",
        "print(book_with_max_reviews[['name', 'reviews']])"
      ],
      "metadata": {
        "colab": {
          "base_uri": "https://localhost:8080/"
        },
        "id": "CgOkH2tIRY-D",
        "outputId": "05ba033b-a1bc-405d-c253-68d22a0ffd17"
      },
      "execution_count": 27,
      "outputs": [
        {
          "output_type": "stream",
          "name": "stdout",
          "text": [
            "Книга з найбільшою кількістю відгуків:\n",
            "                        name  reviews\n",
            "534  Where the Crawdads Sing    87841\n"
          ]
        }
      ]
    },
    {
      "cell_type": "markdown",
      "source": [
        "З тих книг, що потрапили до Топ-50 у 2015 році, яка книга найдорожча (можна використати проміжний датафрейм)? Відповідь: **\"174  Humans of New York : Stories  Brandon Stanton     17\"**"
      ],
      "metadata": {
        "id": "4Y6zhBUiTEGr"
      }
    },
    {
      "cell_type": "code",
      "source": [
        "# Відфільтрувати датафрейм за умовою року публікації 2015\n",
        "top_50_2015 = df[(df['year'] == 2015) & (df['user_rating'] > 4.8)]\n",
        "\n",
        "# Знайти книгу з максимальною ціною серед цього піднабору\n",
        "most_expensive_book = top_50_2015[top_50_2015['price'] == top_50_2015['price'].max()]\n",
        "\n",
        "# Вивести інформацію про найдорожчу книгу\n",
        "most_expensive_book_info = most_expensive_book[['name', 'author', 'price']]\n",
        "print(\"Найдорожча книга серед Топ-50 у 2015 році:\")\n",
        "print(most_expensive_book_info)\n"
      ],
      "metadata": {
        "colab": {
          "base_uri": "https://localhost:8080/"
        },
        "id": "PIaSP3ykTY7S",
        "outputId": "bb6ce4a4-af03-49d7-dae8-279fd5d5e1e8"
      },
      "execution_count": 28,
      "outputs": [
        {
          "output_type": "stream",
          "name": "stdout",
          "text": [
            "Найдорожча книга серед Топ-50 у 2015 році:\n",
            "                             name           author  price\n",
            "174  Humans of New York : Stories  Brandon Stanton     17\n"
          ]
        }
      ]
    },
    {
      "cell_type": "markdown",
      "source": [
        "Скільки книг жанру Fiction потрапили до Топ-50 у 2010 році (використовуйте &)? Відповідь: **20**"
      ],
      "metadata": {
        "id": "Sy9LBm4fUaiu"
      }
    },
    {
      "cell_type": "code",
      "source": [
        "top_50_2010 = df[(df['year'] == 2010) & (df['genre'] == 'Fiction')].drop_duplicates(subset=['name']).shape[0]\n",
        "print(\"Кількість книг жанру Fiction у Топ-50 у 2010 році:\", top_50_2010)"
      ],
      "metadata": {
        "colab": {
          "base_uri": "https://localhost:8080/"
        },
        "id": "4CP15f_JUn0I",
        "outputId": "2fe58957-1613-48e5-d396-a9b58e953f5f"
      },
      "execution_count": 77,
      "outputs": [
        {
          "output_type": "stream",
          "name": "stdout",
          "text": [
            "Кількість книг жанру Fiction у Топ-50 у 2010 році: 20\n"
          ]
        }
      ]
    },
    {
      "cell_type": "markdown",
      "source": [
        "Скільки книг з рейтингом 4.9 потрапило до рейтингу у 2010 та 2011 роках (використовуйте | або функцію isin)? Відповідь:**1**\n"
      ],
      "metadata": {
        "id": "ueJFvZELXujH"
      }
    },
    {
      "cell_type": "code",
      "source": [
        "\n",
        "# Відфільтруємо книги з рейтингом 4.9 у 2010 та 2011 роках\n",
        "rating_4_9 = df[(df['year'].isin([2011, 2012])) & (df['user_rating'] == 4.9)]\n",
        "\n",
        "# Виберемо унікальні книги\n",
        "unique_sort_books = rating_4_9.drop_duplicates(subset='name')\n",
        "\n",
        "# Порахуємо кількість унікальних книг\n",
        "num_unique_books = len(unique_sort_books)\n",
        "\n",
        "# Відсортуємо за зростанням по рокам\n",
        "unique_books_sorte = unique_sort_books.sort_values(by='year')\n",
        "\n",
        "# Виведемо кількість унікальних книг\n",
        "print(\"Кількість книг з рейтингом 4.9, що потрапили до рейтингу у 2010 та 2011 роках:\", num_unique_books)\n",
        "\n",
        "\n",
        "# Виведемо назви унікальних книг за зростанням по рокам\n",
        "print(\"\\nНазви унікальних книг з рейтингом 4.9:\\n\")\n",
        "for index, row in unique_books_sorte.iterrows():\n",
        "    print(f\"Назва: {row['name']}, Автор: {row['author']}\\n\")"
      ],
      "metadata": {
        "colab": {
          "base_uri": "https://localhost:8080/"
        },
        "id": "4eWJjy1IVvyf",
        "outputId": "ea921947-2244-43de-c01d-39f4b5bfb4c0"
      },
      "execution_count": 89,
      "outputs": [
        {
          "output_type": "stream",
          "name": "stdout",
          "text": [
            "Кількість книг з рейтингом 4.9, що потрапили до рейтингу у 2010 та 2011 роках: 3\n",
            "\n",
            "Назви унікальних книг з рейтингом 4.9:\n",
            "\n",
            "Назва: Jesus Calling: Enjoying Peace in His Presence (with Scripture References), Автор: Sarah Young\n",
            "\n",
            "Назва: Goodnight, Goodnight Construction Site (Hardcover Books for Toddlers, Preschool Books for Kids), Автор: Sherri Duskey Rinker\n",
            "\n",
            "Назва: Oh, the Places You'll Go!, Автор: Dr. Seuss\n",
            "\n"
          ]
        }
      ]
    },
    {
      "cell_type": "markdown",
      "source": [
        "І насамкінець, давайте відсортуємо за зростанням ціни всі книги, які потрапили до рейтингу в 2015 році і коштують дешевше за 8 доларів (використовуйте функцію sort_values)."
      ],
      "metadata": {
        "id": "DUVNTjLv1cka"
      }
    },
    {
      "cell_type": "code",
      "source": [
        "# Фільтруємо книги за умовами\n",
        "books_2015_under_8 = df[(df['year'] == 2015) & (df['price'] < 8)]\n",
        "\n",
        "# Порахуємо кількість унікальних книг\n",
        "num_unique_books = len(books_2015_under_8)\n",
        "\n",
        "# Вибираємо унікальні книги за назвою\n",
        "unique_books_2015_under_8 = books_2015_under_8.drop_duplicates(subset='name')\n",
        "\n",
        "# Сортуємо за зростанням ціни\n",
        "sorted_unique_books_2015_under_8 = unique_books_2015_under_8.sort_values(by='price')\n",
        "\n",
        "# Виводимо відсортовані унікальні книги\n",
        "\n",
        "print(\"Унікальні книги з рейтингу 2015 року, що коштують менше за 8 доларів, відсортовані за зростанням ціни:\\n\")\n",
        "print(\"Кількість книг з рейтингу 2015 року, що коштують менше за 8 доларів:\", num_unique_books)\n",
        "print(sorted_unique_books_2015_under_8[['name', 'author', 'price']])\n"
      ],
      "metadata": {
        "colab": {
          "base_uri": "https://localhost:8080/"
        },
        "id": "FfMp_gtJ1dTx",
        "outputId": "8c08ecee-cabf-4d0d-d854-139d14e59d67"
      },
      "execution_count": 95,
      "outputs": [
        {
          "output_type": "stream",
          "name": "stdout",
          "text": [
            "Унікальні книги з рейтингу 2015 року, що коштують менше за 8 доларів, відсортовані за зростанням ціни:\n",
            "\n",
            "Кількість книг з рейтингу 2015 року, що коштують менше за 8 доларів: 17\n",
            "                                                                                               name              author  price\n",
            "507                                                                           To Kill a Mockingbird          Harper Lee      0\n",
            "210                                                                   Laugh-Out-Loud Jokes for Kids         Rob Elliott      4\n",
            "206                                                                      Knock-Knock Jokes for Kids         Rob Elliott      4\n",
            "111                                                                                 First 100 Words        Roger Priddy      4\n",
            "123                                                                            Giraffes Can't Dance       Giles Andreae      4\n",
            "54                                      Creative Haven Creative Cats Coloring Book (Adult Coloring)     Marjorie Sarnat      4\n",
            "63                                                                   Dear Zoo: A Lift-the-Flap Book        Rod Campbell      5\n",
            "89    Dover Creative Haven Art Nouveau Animal Designs Coloring Book (Creative Haven Coloring Books)         Marty Noble      5\n",
            "478                                                                     The Very Hungry Caterpillar          Eric Carle      5\n",
            "201  Killing Reagan: The Violent Assault That Changed a Presidency (Bill O'Reilly's Killing Series)       Bill O'Reilly      5\n",
            "28                                                                     Baby Touch and Feel: Animals                  DK      5\n",
            "224                                                                                Love You Forever       Robert Munsch      5\n",
            "55                                               Creative Haven Owls Coloring Book (Adult Coloring)     Marjorie Sarnat      5\n",
            "17                                                   Adult Coloring Book: Stress Relieving Patterns  Blue Star Coloring      6\n",
            "376               The Four Agreements: A Practical Guide to Personal Freedom (A Toltec Wisdom Book)     Don Miguel Ruiz      6\n",
            "16                                             Adult Coloring Book: Stress Relieving Animal Designs  Blue Star Coloring      6\n",
            "253                                                           Old School (Diary of a Wimpy Kid #10)         Jeff Kinney      7\n"
          ]
        }
      ]
    },
    {
      "cell_type": "markdown",
      "source": [
        "Яка книга остання у відсортованому списку? Відповідь: ** **"
      ],
      "metadata": {
        "id": "EtlogD5BzVlD"
      }
    },
    {
      "cell_type": "code",
      "source": [
        "# Виводимо останню книгу у відсортованому списку рядочком\n",
        "last_book = sorted_unique_books_2015_under_8.iloc[-1]\n",
        "print(f\"\\nОстання книга у відсортованому списку: {last_book['name']} by {last_book['author']} - ${last_book['price']}\")"
      ],
      "metadata": {
        "colab": {
          "base_uri": "https://localhost:8080/"
        },
        "id": "pqMdYszczYEc",
        "outputId": "5f1740fe-a357-47c8-cbc5-447e6425967c"
      },
      "execution_count": 102,
      "outputs": [
        {
          "output_type": "stream",
          "name": "stdout",
          "text": [
            "\n",
            "Остання книга у відсортованому списку: Old School (Diary of a Wimpy Kid #10) by Jeff Kinney - $7\n"
          ]
        }
      ]
    }
  ]
}