{
  "nbformat": 4,
  "nbformat_minor": 0,
  "metadata": {
    "colab": {
      "provenance": [],
      "authorship_tag": "ABX9TyOC3z2g7GX9b78kUCHT1dRR",
      "include_colab_link": true
    },
    "kernelspec": {
      "name": "python3",
      "display_name": "Python 3"
    },
    "language_info": {
      "name": "python"
    }
  },
  "cells": [
    {
      "cell_type": "markdown",
      "metadata": {
        "id": "view-in-github",
        "colab_type": "text"
      },
      "source": [
        "<a href=\"https://colab.research.google.com/github/ValeriiYermak/DataScience/blob/main/HW_3.ipynb\" target=\"_parent\"><img src=\"https://colab.research.google.com/assets/colab-badge.svg\" alt=\"Open In Colab\"/></a>"
      ]
    },
    {
      "cell_type": "markdown",
      "source": [
        "**напишіть функцію гіпотези лінійної регресії у векторному вигляді;**"
      ],
      "metadata": {
        "id": "O_-uR1S8Cr32"
      }
    },
    {
      "cell_type": "code",
      "execution_count": 26,
      "metadata": {
        "id": "WiDVCWrLCR66"
      },
      "outputs": [],
      "source": [
        "import numpy as np\n",
        "import matplotlib.pyplot as plt\n",
        "\n",
        "def hypothesis(X, w):\n",
        "    return np.dot(X, w)\n"
      ]
    },
    {
      "cell_type": "markdown",
      "source": [
        "**створіть функцію для обчислення функції втрат у векторному вигляді;**"
      ],
      "metadata": {
        "id": "LNOgNC--Cw8j"
      }
    },
    {
      "cell_type": "code",
      "source": [
        "def compute_loss(X, y, w):\n",
        "    m = len(y)\n",
        "    predictions = hypothesis(X, w)\n",
        "    loss = (1/(2*m)) * np.sum((predictions - y) ** 2)\n",
        "    return loss"
      ],
      "metadata": {
        "id": "VijucMi5DbTd"
      },
      "execution_count": 27,
      "outputs": []
    },
    {
      "cell_type": "markdown",
      "source": [
        "**реалізуйте один крок градієнтного спуску;**"
      ],
      "metadata": {
        "id": "gKLCMVpcC1jk"
      }
    },
    {
      "cell_type": "code",
      "source": [
        "def gradient_descent_step(X, y, w, learning_rate):\n",
        "    m = len(y)\n",
        "    predictions = hypothesis(X, w)\n",
        "    gradient = (1/m) * np.dot(X.T, (predictions - y))\n",
        "    w = w - learning_rate * gradient\n",
        "    return w"
      ],
      "metadata": {
        "id": "kmcF2YgqDdAD"
      },
      "execution_count": 28,
      "outputs": []
    },
    {
      "cell_type": "code",
      "source": [
        "def normalize_features(X):\n",
        "    means = np.mean(X, axis=0)\n",
        "    stds = np.std(X, axis=0)\n",
        "    return (X - means) / stds"
      ],
      "metadata": {
        "id": "MXWST8qNEcKd"
      },
      "execution_count": 29,
      "outputs": []
    },
    {
      "cell_type": "markdown",
      "source": [
        "**знайдіть найкращі параметри 𝑤⃗w для датасету прогнозуючу ціну на будинок залежно від площі, кількості ванних кімнат та кількості спалень;**"
      ],
      "metadata": {
        "id": "hyfbjnyEC6Gc"
      }
    },
    {
      "cell_type": "code",
      "source": [
        "# Приклад датасету (площа, кількість ванних кімнат, кількість спалень, ціна)\n",
        "X = np.array([\n",
        "    [2104, 3, 3],\n",
        "    [1600, 3, 2],\n",
        "    [2400, 3, 3],\n",
        "    [1416, 2, 2],\n",
        "    [3000, 4, 4]\n",
        "])\n",
        "y = np.array([399900, 329900, 369000, 232000, 539900])\n",
        "\n",
        "\n",
        "# Нормалізуємо характеристики\n",
        "X_normalized = normalize_features(X)\n",
        "\n",
        "# Додамо стовпець одиниць для інтерсепту\n",
        "X_normalized = np.hstack((np.ones((X_normalized.shape[0], 1)), X_normalized))\n",
        "\n",
        "# Ініціалізація параметрів\n",
        "w = np.zeros(X_normalized.shape[1])\n",
        "\n",
        "# Налаштування параметрів градієнтного спуску\n",
        "learning_rate = 0.01\n",
        "num_iterations = 1000\n",
        "losses = []\n",
        "\n",
        "# Градієнтний спуск\n",
        "for i in range(num_iterations):\n",
        "    w = gradient_descent_step(X_normalized, y, w, learning_rate)\n",
        "    loss = compute_loss(X_normalized, y, w)\n",
        "    losses.append(loss)\n",
        "\n",
        "print(\"Параметри, знайдені градієнтним спуском:\", w)\n"
      ],
      "metadata": {
        "colab": {
          "base_uri": "https://localhost:8080/"
        },
        "id": "VDmIffedDot0",
        "outputId": "c05384f1-28a1-4fd8-fc77-234d98965195"
      },
      "execution_count": 30,
      "outputs": [
        {
          "output_type": "stream",
          "name": "stdout",
          "text": [
            "Параметри, знайдені градієнтним спуском: [374123.84790949  13827.03031773  57848.14577613  31167.43560809]\n"
          ]
        }
      ]
    },
    {
      "cell_type": "markdown",
      "source": [
        "**знайдіть ці ж параметри за допомогою аналітичного рішення;**"
      ],
      "metadata": {
        "id": "g3yibx0zDEX9"
      }
    },
    {
      "cell_type": "code",
      "source": [
        "def analytical_solution(X, y):\n",
        "    return np.linalg.inv(X.T @ X) @ X.T @ y\n",
        "\n",
        "# Для аналітичного рішення потрібно також нормалізувати дані\n",
        "X_analytical = np.hstack((np.ones((X.shape[0], 1)), X))\n",
        "w_analytical = analytical_solution(X_analytical, y)\n",
        "print(\"Параметри, знайдені аналітичним рішенням:\", w_analytical)\n"
      ],
      "metadata": {
        "colab": {
          "base_uri": "https://localhost:8080/"
        },
        "id": "3qzqE38fDp1D",
        "outputId": "9b8ef6a5-2bbb-421d-b45f-fb1d152bf2b8"
      },
      "execution_count": 31,
      "outputs": [
        {
          "output_type": "stream",
          "name": "stdout",
          "text": [
            "Параметри, знайдені аналітичним рішенням: [-9.14568206e+04 -1.01416579e+02  1.15079486e+05  1.19192445e+05]\n"
          ]
        }
      ]
    },
    {
      "cell_type": "code",
      "source": [
        "plt.figure(figsize=(14, 5))\n",
        "\n",
        "# Графік втрат\n",
        "plt.subplot(1, 2, 1)\n",
        "plt.plot(losses)\n",
        "plt.xlabel('Ітерація')\n",
        "plt.ylabel('Втрата')\n",
        "plt.title('Градієнтний спуск - Втрата на кожній ітерації')"
      ],
      "metadata": {
        "colab": {
          "base_uri": "https://localhost:8080/",
          "height": 504
        },
        "id": "BcyekBMTF8rX",
        "outputId": "d68c707d-6533-4e2f-daa6-a3c5969250aa"
      },
      "execution_count": 32,
      "outputs": [
        {
          "output_type": "execute_result",
          "data": {
            "text/plain": [
              "Text(0.5, 1.0, 'Градієнтний спуск - Втрата на кожній ітерації')"
            ]
          },
          "metadata": {},
          "execution_count": 32
        },
        {
          "output_type": "display_data",
          "data": {
            "text/plain": [
              "<Figure size 1400x500 with 1 Axes>"
            ],
            "image/png": "[encoded data removed]"
          },
          "metadata": {}
        }
      ]
    },
    {
      "cell_type": "markdown",
      "source": [
        "**порівняйте отримані результати.**"
      ],
      "metadata": {
        "id": "KxjB3meEDIBd"
      }
    },
    {
      "cell_type": "code",
      "source": [
        "# Порівняння параметрів\n",
        "plt.subplot(1, 2, 2)\n",
        "bar_width = 0.35\n",
        "index = np.arange(len(w))\n",
        "plt.bar(index, w, bar_width, label='Градієнтний спуск')\n",
        "plt.bar(index + bar_width, w_analytical, bar_width, label='Аналітичне рішення')\n",
        "plt.xlabel('Параметри')\n",
        "plt.ylabel('Значення параметрів')\n",
        "plt.title('Порівняння параметрів')\n",
        "plt.legend()\n",
        "\n",
        "plt.tight_layout()\n",
        "plt.show()"
      ],
      "metadata": {
        "colab": {
          "base_uri": "https://localhost:8080/",
          "height": 487
        },
        "id": "fVfIqwEfDvBr",
        "outputId": "c8db73e5-5f93-455e-ef9c-30b7d6dbf5c8"
      },
      "execution_count": 33,
      "outputs": [
        {
          "output_type": "display_data",
          "data": {
            "text/plain": [
              "<Figure size 640x480 with 1 Axes>"
            ],
            "image/png": "[encoded data removed]"
          },
          "metadata": {}
        }
      ]
    }
  ]
}