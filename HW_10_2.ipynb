{
  "cells": [
    {
      "cell_type": "markdown",
      "metadata": {
        "id": "view-in-github",
        "colab_type": "text"
      },
      "source": [
        "<a href=\"https://colab.research.google.com/github/ValeriiYermak/DataScience/blob/main/HW_10_2.ipynb\" target=\"_parent\"><img src=\"https://colab.research.google.com/assets/colab-badge.svg\" alt=\"Open In Colab\"/></a>"
      ]
    },
    {
      "cell_type": "code",
      "execution_count": 30,
      "metadata": {
        "id": "bZISUmMV1HB5"
      },
      "outputs": [],
      "source": [
        "import tensorflow as tf\n",
        "import matplotlib.pyplot as plt\n",
        "from tensorflow.keras.models import Sequential\n",
        "from tensorflow.keras.layers import Dense, Dropout, GlobalAveragePooling2D\n",
        "from tensorflow.keras.optimizers import Adam\n",
        "from tensorflow.keras.callbacks import ReduceLROnPlateau, EarlyStopping\n",
        "from tensorflow.keras.applications import VGG16\n",
        "from sklearn.model_selection import train_test_split"
      ]
    },
    {
      "cell_type": "code",
      "execution_count": 31,
      "metadata": {
        "id": "gVcdoH67HTBE"
      },
      "outputs": [],
      "source": [
        "# Завантаження та підготовка даних\n",
        "(x_train, y_train), (x_test, y_test) = tf.keras.datasets.mnist.load_data()"
      ]
    },
    {
      "cell_type": "code",
      "execution_count": 32,
      "metadata": {
        "id": "fUBD0f3JHW69"
      },
      "outputs": [],
      "source": [
        "# Масштабування даних\n",
        "x_train = x_train.reshape(x_train.shape[0], 28, 28, 1).astype('float32') / 255\n",
        "x_test = x_test.reshape(x_test.shape[0], 28, 28, 1).astype('float32') / 255"
      ]
    },
    {
      "cell_type": "code",
      "execution_count": 33,
      "metadata": {
        "id": "vCW7vLbVHaaX"
      },
      "outputs": [],
      "source": [
        "# Convert 1-channel images to 3-channel\n",
        "x_train = tf.image.grayscale_to_rgb(tf.convert_to_tensor(x_train))\n",
        "x_test = tf.image.grayscale_to_rgb(tf.convert_to_tensor(x_test))"
      ]
    },
    {
      "cell_type": "code",
      "execution_count": 34,
      "metadata": {
        "id": "00CIpiG9HbNb"
      },
      "outputs": [],
      "source": [
        "# Resize images to 32x32\n",
        "x_train = tf.image.resize(x_train, (32, 32))\n",
        "x_test = tf.image.resize(x_test, (32, 32))"
      ]
    },
    {
      "cell_type": "code",
      "execution_count": 35,
      "metadata": {
        "id": "QOh3o4LSHc7E"
      },
      "outputs": [],
      "source": [
        "# Convert tensors to NumPy arrays\n",
        "x_train = x_train.numpy()\n",
        "x_test = x_test.numpy()"
      ]
    },
    {
      "cell_type": "code",
      "execution_count": 36,
      "metadata": {
        "id": "EY0mioloHfbN"
      },
      "outputs": [],
      "source": [
        "# One-hot encode the labels\n",
        "y_train = tf.keras.utils.to_categorical(y_train, 10)\n",
        "y_test = tf.keras.utils.to_categorical(y_test, 10)\n",
        "\n",
        "# Split the training data into training and validation sets\n",
        "x_train, x_val, y_train, y_val = train_test_split(x_train, y_train, test_size=0.2, random_state=42)\n",
        "\n",
        "# Load VGG16 base model\n",
        "vgg16_base = VGG16(weights='imagenet', include_top=False, input_shape=(32, 32, 3))"
      ]
    },
    {
      "cell_type": "code",
      "source": [
        "# Freeze the layers of VGG16\n",
        "for layer in vgg16_base.layers:\n",
        "    layer.trainable = False"
      ],
      "metadata": {
        "id": "C6BIaDPg3lmU"
      },
      "execution_count": 37,
      "outputs": []
    },
    {
      "cell_type": "code",
      "execution_count": 38,
      "metadata": {
        "id": "ZcsrOMS-Hh9E"
      },
      "outputs": [],
      "source": [
        "# Define the model\n",
        "model = Sequential()\n",
        "model.add(vgg16_base)\n",
        "model.add(GlobalAveragePooling2D())\n",
        "model.add(Dense(256, activation='relu'))\n",
        "model.add(Dropout(0.5))\n",
        "model.add(Dense(128, activation='relu'))\n",
        "model.add(Dropout(0.5))\n",
        "model.add(Dense(10, activation='softmax'))"
      ]
    },
    {
      "cell_type": "code",
      "execution_count": 39,
      "metadata": {
        "id": "326QDZ9QHk_M"
      },
      "outputs": [],
      "source": [
        "# Compile the model\n",
        "model.compile(optimizer=Adam(learning_rate=1e-4), loss='categorical_crossentropy', metrics=['accuracy'])\n"
      ]
    },
    {
      "cell_type": "code",
      "execution_count": 40,
      "metadata": {
        "id": "uBzihi47HnJ0"
      },
      "outputs": [],
      "source": [
        "# Define callbacks\n",
        "reduce_lr = ReduceLROnPlateau(monitor='val_loss', factor=0.2, patience=5, min_lr=1e-6)\n",
        "early_stop = EarlyStopping(monitor='val_loss', patience=5, restore_best_weights=True)\n"
      ]
    },
    {
      "cell_type": "code",
      "execution_count": 41,
      "metadata": {
        "colab": {
          "base_uri": "https://localhost:8080/"
        },
        "id": "itZzz62XHplr",
        "outputId": "82f65589-22cb-4871-8b42-339a072ebfa8"
      },
      "outputs": [
        {
          "output_type": "stream",
          "name": "stdout",
          "text": [
            "Epoch 1/60\n",
            "1500/1500 [==============================] - 17s 10ms/step - loss: 1.3464 - accuracy: 0.5454 - val_loss: 0.5795 - val_accuracy: 0.8327 - lr: 1.0000e-04\n",
            "Epoch 2/60\n",
            "1500/1500 [==============================] - 17s 11ms/step - loss: 0.6232 - accuracy: 0.8041 - val_loss: 0.3401 - val_accuracy: 0.8992 - lr: 1.0000e-04\n",
            "Epoch 3/60\n",
            "1500/1500 [==============================] - 15s 10ms/step - loss: 0.4291 - accuracy: 0.8692 - val_loss: 0.2482 - val_accuracy: 0.9247 - lr: 1.0000e-04\n",
            "Epoch 4/60\n",
            "1500/1500 [==============================] - 15s 10ms/step - loss: 0.3383 - accuracy: 0.8996 - val_loss: 0.2035 - val_accuracy: 0.9375 - lr: 1.0000e-04\n",
            "Epoch 5/60\n",
            "1500/1500 [==============================] - 15s 10ms/step - loss: 0.2833 - accuracy: 0.9141 - val_loss: 0.1769 - val_accuracy: 0.9449 - lr: 1.0000e-04\n",
            "Epoch 6/60\n",
            "1500/1500 [==============================] - 17s 11ms/step - loss: 0.2523 - accuracy: 0.9239 - val_loss: 0.1610 - val_accuracy: 0.9493 - lr: 1.0000e-04\n",
            "Epoch 7/60\n",
            "1500/1500 [==============================] - 17s 11ms/step - loss: 0.2287 - accuracy: 0.9319 - val_loss: 0.1475 - val_accuracy: 0.9532 - lr: 1.0000e-04\n",
            "Epoch 8/60\n",
            "1500/1500 [==============================] - 15s 10ms/step - loss: 0.2115 - accuracy: 0.9361 - val_loss: 0.1377 - val_accuracy: 0.9570 - lr: 1.0000e-04\n",
            "Epoch 9/60\n",
            "1500/1500 [==============================] - 17s 11ms/step - loss: 0.1953 - accuracy: 0.9407 - val_loss: 0.1324 - val_accuracy: 0.9563 - lr: 1.0000e-04\n",
            "Epoch 10/60\n",
            "1500/1500 [==============================] - 15s 10ms/step - loss: 0.1815 - accuracy: 0.9457 - val_loss: 0.1210 - val_accuracy: 0.9611 - lr: 1.0000e-04\n",
            "Epoch 11/60\n",
            "1500/1500 [==============================] - 17s 11ms/step - loss: 0.1751 - accuracy: 0.9469 - val_loss: 0.1192 - val_accuracy: 0.9619 - lr: 1.0000e-04\n",
            "Epoch 12/60\n",
            "1500/1500 [==============================] - 17s 11ms/step - loss: 0.1674 - accuracy: 0.9495 - val_loss: 0.1134 - val_accuracy: 0.9638 - lr: 1.0000e-04\n",
            "Epoch 13/60\n",
            "1500/1500 [==============================] - 15s 10ms/step - loss: 0.1589 - accuracy: 0.9519 - val_loss: 0.1080 - val_accuracy: 0.9650 - lr: 1.0000e-04\n",
            "Epoch 14/60\n",
            "1500/1500 [==============================] - 14s 10ms/step - loss: 0.1518 - accuracy: 0.9544 - val_loss: 0.1086 - val_accuracy: 0.9658 - lr: 1.0000e-04\n",
            "Epoch 15/60\n",
            "1500/1500 [==============================] - 15s 10ms/step - loss: 0.1457 - accuracy: 0.9553 - val_loss: 0.1026 - val_accuracy: 0.9662 - lr: 1.0000e-04\n",
            "Epoch 16/60\n",
            "1500/1500 [==============================] - 15s 10ms/step - loss: 0.1406 - accuracy: 0.9570 - val_loss: 0.1003 - val_accuracy: 0.9684 - lr: 1.0000e-04\n",
            "Epoch 17/60\n",
            "1500/1500 [==============================] - 17s 11ms/step - loss: 0.1382 - accuracy: 0.9574 - val_loss: 0.0975 - val_accuracy: 0.9690 - lr: 1.0000e-04\n",
            "Epoch 18/60\n",
            "1500/1500 [==============================] - 15s 10ms/step - loss: 0.1333 - accuracy: 0.9586 - val_loss: 0.0967 - val_accuracy: 0.9693 - lr: 1.0000e-04\n",
            "Epoch 19/60\n",
            "1500/1500 [==============================] - 17s 11ms/step - loss: 0.1289 - accuracy: 0.9603 - val_loss: 0.0942 - val_accuracy: 0.9704 - lr: 1.0000e-04\n",
            "Epoch 20/60\n",
            "1500/1500 [==============================] - 17s 11ms/step - loss: 0.1273 - accuracy: 0.9612 - val_loss: 0.0913 - val_accuracy: 0.9712 - lr: 1.0000e-04\n",
            "Epoch 21/60\n",
            "1500/1500 [==============================] - 17s 11ms/step - loss: 0.1250 - accuracy: 0.9619 - val_loss: 0.0899 - val_accuracy: 0.9713 - lr: 1.0000e-04\n",
            "Epoch 22/60\n",
            "1500/1500 [==============================] - 15s 10ms/step - loss: 0.1205 - accuracy: 0.9633 - val_loss: 0.0926 - val_accuracy: 0.9707 - lr: 1.0000e-04\n",
            "Epoch 23/60\n",
            "1500/1500 [==============================] - 15s 10ms/step - loss: 0.1170 - accuracy: 0.9636 - val_loss: 0.0892 - val_accuracy: 0.9705 - lr: 1.0000e-04\n",
            "Epoch 24/60\n",
            "1500/1500 [==============================] - 17s 11ms/step - loss: 0.1141 - accuracy: 0.9645 - val_loss: 0.0875 - val_accuracy: 0.9728 - lr: 1.0000e-04\n",
            "Epoch 25/60\n",
            "1500/1500 [==============================] - 15s 10ms/step - loss: 0.1120 - accuracy: 0.9657 - val_loss: 0.0846 - val_accuracy: 0.9726 - lr: 1.0000e-04\n",
            "Epoch 26/60\n",
            "1500/1500 [==============================] - 15s 10ms/step - loss: 0.1097 - accuracy: 0.9665 - val_loss: 0.0845 - val_accuracy: 0.9742 - lr: 1.0000e-04\n",
            "Epoch 27/60\n",
            "1500/1500 [==============================] - 17s 11ms/step - loss: 0.1066 - accuracy: 0.9675 - val_loss: 0.0825 - val_accuracy: 0.9742 - lr: 1.0000e-04\n",
            "Epoch 28/60\n",
            "1500/1500 [==============================] - 17s 11ms/step - loss: 0.1058 - accuracy: 0.9676 - val_loss: 0.0829 - val_accuracy: 0.9733 - lr: 1.0000e-04\n",
            "Epoch 29/60\n",
            "1500/1500 [==============================] - 17s 11ms/step - loss: 0.1039 - accuracy: 0.9688 - val_loss: 0.0859 - val_accuracy: 0.9724 - lr: 1.0000e-04\n",
            "Epoch 30/60\n",
            "1500/1500 [==============================] - 17s 11ms/step - loss: 0.1018 - accuracy: 0.9691 - val_loss: 0.0838 - val_accuracy: 0.9743 - lr: 1.0000e-04\n",
            "Epoch 31/60\n",
            "1500/1500 [==============================] - 15s 10ms/step - loss: 0.0981 - accuracy: 0.9709 - val_loss: 0.0798 - val_accuracy: 0.9747 - lr: 1.0000e-04\n",
            "Epoch 32/60\n",
            "1500/1500 [==============================] - 17s 11ms/step - loss: 0.0991 - accuracy: 0.9705 - val_loss: 0.0767 - val_accuracy: 0.9762 - lr: 1.0000e-04\n",
            "Epoch 33/60\n",
            "1500/1500 [==============================] - 15s 10ms/step - loss: 0.0956 - accuracy: 0.9713 - val_loss: 0.0795 - val_accuracy: 0.9752 - lr: 1.0000e-04\n",
            "Epoch 34/60\n",
            "1500/1500 [==============================] - 17s 11ms/step - loss: 0.0968 - accuracy: 0.9706 - val_loss: 0.0759 - val_accuracy: 0.9765 - lr: 1.0000e-04\n",
            "Epoch 35/60\n",
            "1500/1500 [==============================] - 15s 10ms/step - loss: 0.0926 - accuracy: 0.9715 - val_loss: 0.0773 - val_accuracy: 0.9749 - lr: 1.0000e-04\n",
            "Epoch 36/60\n",
            "1500/1500 [==============================] - 15s 10ms/step - loss: 0.0919 - accuracy: 0.9716 - val_loss: 0.0777 - val_accuracy: 0.9747 - lr: 1.0000e-04\n",
            "Epoch 37/60\n",
            "1500/1500 [==============================] - 17s 11ms/step - loss: 0.0907 - accuracy: 0.9720 - val_loss: 0.0762 - val_accuracy: 0.9765 - lr: 1.0000e-04\n",
            "Epoch 38/60\n",
            "1500/1500 [==============================] - 15s 10ms/step - loss: 0.0887 - accuracy: 0.9728 - val_loss: 0.0731 - val_accuracy: 0.9774 - lr: 1.0000e-04\n",
            "Epoch 39/60\n",
            "1500/1500 [==============================] - 17s 11ms/step - loss: 0.0877 - accuracy: 0.9736 - val_loss: 0.0781 - val_accuracy: 0.9755 - lr: 1.0000e-04\n",
            "Epoch 40/60\n",
            "1500/1500 [==============================] - 17s 11ms/step - loss: 0.0866 - accuracy: 0.9742 - val_loss: 0.0761 - val_accuracy: 0.9769 - lr: 1.0000e-04\n",
            "Epoch 41/60\n",
            "1500/1500 [==============================] - 17s 11ms/step - loss: 0.0844 - accuracy: 0.9743 - val_loss: 0.0745 - val_accuracy: 0.9778 - lr: 1.0000e-04\n",
            "Epoch 42/60\n",
            "1500/1500 [==============================] - 17s 11ms/step - loss: 0.0842 - accuracy: 0.9745 - val_loss: 0.0794 - val_accuracy: 0.9762 - lr: 1.0000e-04\n",
            "Epoch 43/60\n",
            "1500/1500 [==============================] - 17s 11ms/step - loss: 0.0838 - accuracy: 0.9742 - val_loss: 0.0733 - val_accuracy: 0.9767 - lr: 1.0000e-04\n",
            "313/313 [==============================] - 3s 8ms/step - loss: 0.0725 - accuracy: 0.9778\n",
            "Test accuracy: 0.9778000116348267\n"
          ]
        }
      ],
      "source": [
        "# Train the model without data augmentation\n",
        "history = model.fit(x_train, y_train,\n",
        "                    epochs=60,\n",
        "                    validation_data=(x_val, y_val),\n",
        "                    callbacks=[reduce_lr, early_stop])\n",
        "\n",
        "# Evaluate the model\n",
        "test_loss, test_acc = model.evaluate(x_test, y_test)\n",
        "print(f'Test accuracy: {test_acc}')"
      ]
    },
    {
      "cell_type": "code",
      "execution_count": 42,
      "metadata": {
        "id": "jOptI351IKKE",
        "colab": {
          "base_uri": "https://localhost:8080/",
          "height": 410
        },
        "outputId": "f6722e6a-62aa-4871-9c68-b155ab2625bd"
      },
      "outputs": [
        {
          "output_type": "display_data",
          "data": {
            "text/plain": [
              "<Figure size 1200x400 with 2 Axes>"
            ],
            "image/png": "[encoded data removed]"
          },
          "metadata": {}
        }
      ],
      "source": [
        "# Побудова графіків для точності\n",
        "plt.figure(figsize=(12, 4))\n",
        "plt.subplot(1, 2, 1)\n",
        "plt.plot(history.history['accuracy'], label='Train Accuracy')\n",
        "plt.plot(history.history['val_accuracy'], label='Validation Accuracy')\n",
        "plt.title('Training and Validation Accuracy')\n",
        "plt.xlabel('Epoch')\n",
        "plt.ylabel('Accuracy')\n",
        "plt.legend()\n",
        "\n",
        "# Побудова графіків для втрат\n",
        "plt.subplot(1, 2, 2)\n",
        "plt.plot(history.history['loss'], label='Train Loss')\n",
        "plt.plot(history.history['val_loss'], label='Validation Loss')\n",
        "plt.title('Training and Validation Loss')\n",
        "plt.xlabel('Epoch')\n",
        "plt.ylabel('Loss')\n",
        "plt.legend()\n",
        "\n",
        "plt.show()"
      ]
    },
    {
      "cell_type": "markdown",
      "source": [
        "**Висновки:**\n",
        "\n",
        "- Точність моделі: Після 40 епох тренування, модель досягла тестової точності 97.78%. Це дуже хороший результат для класифікації зображень з набору даних MNIST.\n",
        "\n",
        "- Навчання та валідація: З плином епох, валідаційна точність поступово збільшувалася, а втрата зменшувалася, що свідчить про стабільне навчання без значного перенавчання.\n",
        "\n",
        "- Підхід до навчання: Використання попередньо навченої моделі VGG16 для екстракції ознак, а потім навчання додаткових шарів для класифікації дозволило досягти високої точності на відносно невеликому наборі даних.\n"
      ],
      "metadata": {
        "id": "nKgoOQS83xOa"
      }
    },
    {
      "cell_type": "markdown",
      "source": [
        "Точність отриманої згорткової мережі в порівнянні з точністю багатошарової мережі з попереднього завдання значно відрізняються. З попереднього відчуття попередньо навчені мережі більш продуктивні та легше навчаються з меншою ймовірністю перенавчання."
      ],
      "metadata": {
        "id": "g-CzSqHZ85vc"
      }
    },
    {
      "cell_type": "markdown",
      "source": [
        "**Рекомендації**\n",
        "\n",
        "- Додаткові епохи: Можна спробувати тренувати модель більше 40 епох, щоб побачити, чи можливо ще більше покращити результати.\n",
        "\n",
        "- Зміна навчальної швидкості: Можна експериментувати з іншими значеннями швидкості навчання та схемами її зміни.\n",
        "\n",
        "- Регуляризація: Якщо б з'явилися ознаки перенавчання, варто розглянути додаткові методи регуляризації, такі як L2-регуляризація чи збільшення коефіцієнта дропауту.\n",
        "\n",
        "- Аугментація даних: Для подальшого покращення генералізації, можна спробувати додати аугментацію даних, що може збільшити розмір і різноманітність тренувального набору даних."
      ],
      "metadata": {
        "id": "vG2d-9CZ4L7A"
      }
    }
  ],
  "metadata": {
    "accelerator": "GPU",
    "colab": {
      "gpuType": "T4",
      "provenance": [],
      "authorship_tag": "ABX9TyNUaas4kbgZIlWyspR4Wdnq",
      "include_colab_link": true
    },
    "kernelspec": {
      "display_name": "Python 3",
      "name": "python3"
    },
    "language_info": {
      "name": "python"
    }
  },
  "nbformat": 4,
  "nbformat_minor": 0
}