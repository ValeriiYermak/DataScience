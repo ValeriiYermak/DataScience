{
  "cells": [
    {
      "cell_type": "markdown",
      "metadata": {
        "id": "view-in-github",
        "colab_type": "text"
      },
      "source": [
        "<a href=\"https://colab.research.google.com/github/ValeriiYermak/DataScience/blob/main/HW_10_2.ipynb\" target=\"_parent\"><img src=\"https://colab.research.google.com/assets/colab-badge.svg\" alt=\"Open In Colab\"/></a>"
      ]
    },
    {
      "cell_type": "code",
      "execution_count": 1,
      "metadata": {
        "id": "bZISUmMV1HB5"
      },
      "outputs": [],
      "source": [
        "import tensorflow as tf\n",
        "from tensorflow.keras.models import Sequential\n",
        "from tensorflow.keras.layers import Dense, Dropout, GlobalAveragePooling2D\n",
        "from tensorflow.keras.optimizers import Adam\n",
        "from tensorflow.keras.callbacks import ReduceLROnPlateau, EarlyStopping\n",
        "from tensorflow.keras.applications import VGG16\n",
        "from sklearn.model_selection import train_test_split"
      ]
    },
    {
      "cell_type": "code",
      "execution_count": 2,
      "metadata": {
        "colab": {
          "base_uri": "https://localhost:8080/"
        },
        "id": "gVcdoH67HTBE",
        "outputId": "fb3c7d0c-7d21-4a6f-93f8-4b636e14e302"
      },
      "outputs": [
        {
          "output_type": "stream",
          "name": "stdout",
          "text": [
            "Downloading data from https://storage.googleapis.com/tensorflow/tf-keras-datasets/mnist.npz\n",
            "11490434/11490434 [==============================] - 0s 0us/step\n"
          ]
        }
      ],
      "source": [
        "# Завантаження та підготовка даних\n",
        "(x_train, y_train), (x_test, y_test) = tf.keras.datasets.mnist.load_data()"
      ]
    },
    {
      "cell_type": "code",
      "execution_count": 3,
      "metadata": {
        "id": "fUBD0f3JHW69"
      },
      "outputs": [],
      "source": [
        "# Масштабування даних\n",
        "x_train = x_train.reshape(x_train.shape[0], 28, 28, 1).astype('float32') / 255\n",
        "x_test = x_test.reshape(x_test.shape[0], 28, 28, 1).astype('float32') / 255"
      ]
    },
    {
      "cell_type": "code",
      "execution_count": 4,
      "metadata": {
        "id": "vCW7vLbVHaaX"
      },
      "outputs": [],
      "source": [
        "# Convert 1-channel images to 3-channel\n",
        "x_train = tf.image.grayscale_to_rgb(tf.convert_to_tensor(x_train))\n",
        "x_test = tf.image.grayscale_to_rgb(tf.convert_to_tensor(x_test))"
      ]
    },
    {
      "cell_type": "code",
      "execution_count": 5,
      "metadata": {
        "id": "00CIpiG9HbNb"
      },
      "outputs": [],
      "source": [
        "# Resize images to 32x32\n",
        "x_train = tf.image.resize(x_train, (32, 32))\n",
        "x_test = tf.image.resize(x_test, (32, 32))"
      ]
    },
    {
      "cell_type": "code",
      "execution_count": 6,
      "metadata": {
        "id": "QOh3o4LSHc7E"
      },
      "outputs": [],
      "source": [
        "# Convert tensors to NumPy arrays\n",
        "x_train = x_train.numpy()\n",
        "x_test = x_test.numpy()"
      ]
    },
    {
      "cell_type": "code",
      "execution_count": 7,
      "metadata": {
        "id": "EY0mioloHfbN",
        "colab": {
          "base_uri": "https://localhost:8080/"
        },
        "outputId": "b33f8712-e352-464a-e7dd-7e7f37c0d544"
      },
      "outputs": [
        {
          "output_type": "stream",
          "name": "stdout",
          "text": [
            "Downloading data from https://storage.googleapis.com/tensorflow/keras-applications/vgg16/vgg16_weights_tf_dim_ordering_tf_kernels_notop.h5\n",
            "58889256/58889256 [==============================] - 1s 0us/step\n"
          ]
        }
      ],
      "source": [
        "# One-hot encode the labels\n",
        "y_train = tf.keras.utils.to_categorical(y_train, 10)\n",
        "y_test = tf.keras.utils.to_categorical(y_test, 10)\n",
        "\n",
        "# Split the training data into training and validation sets\n",
        "x_train, x_val, y_train, y_val = train_test_split(x_train, y_train, test_size=0.2, random_state=42)\n",
        "\n",
        "# Load VGG16 base model\n",
        "vgg16_base = VGG16(weights='imagenet', include_top=False, input_shape=(32, 32, 3))"
      ]
    },
    {
      "cell_type": "code",
      "source": [
        "# Freeze the layers of VGG16\n",
        "for layer in vgg16_base.layers:\n",
        "    layer.trainable = False"
      ],
      "metadata": {
        "id": "C6BIaDPg3lmU"
      },
      "execution_count": 8,
      "outputs": []
    },
    {
      "cell_type": "code",
      "execution_count": 9,
      "metadata": {
        "id": "ZcsrOMS-Hh9E"
      },
      "outputs": [],
      "source": [
        "# Define the model\n",
        "model = Sequential()\n",
        "model.add(vgg16_base)\n",
        "model.add(GlobalAveragePooling2D())\n",
        "model.add(Dense(256, activation='relu'))\n",
        "model.add(Dropout(0.5))\n",
        "model.add(Dense(128, activation='relu'))\n",
        "model.add(Dropout(0.5))\n",
        "model.add(Dense(10, activation='softmax'))"
      ]
    },
    {
      "cell_type": "code",
      "execution_count": 10,
      "metadata": {
        "id": "326QDZ9QHk_M"
      },
      "outputs": [],
      "source": [
        "# Compile the model\n",
        "model.compile(optimizer=Adam(learning_rate=1e-4), loss='categorical_crossentropy', metrics=['accuracy'])\n"
      ]
    },
    {
      "cell_type": "code",
      "execution_count": 11,
      "metadata": {
        "id": "uBzihi47HnJ0"
      },
      "outputs": [],
      "source": [
        "# Define callbacks\n",
        "reduce_lr = ReduceLROnPlateau(monitor='val_loss', factor=0.2, patience=5, min_lr=1e-6)\n",
        "early_stop = EarlyStopping(monitor='val_loss', patience=5, restore_best_weights=True)\n"
      ]
    },
    {
      "cell_type": "code",
      "execution_count": 12,
      "metadata": {
        "colab": {
          "base_uri": "https://localhost:8080/"
        },
        "id": "itZzz62XHplr",
        "outputId": "9744ebf7-e83f-4e3f-fd4a-798b9a53852e"
      },
      "outputs": [
        {
          "output_type": "stream",
          "name": "stdout",
          "text": [
            "Epoch 1/40\n",
            "1500/1500 [==============================] - 24s 12ms/step - loss: 1.3557 - accuracy: 0.5441 - val_loss: 0.5959 - val_accuracy: 0.8289 - lr: 1.0000e-04\n",
            "Epoch 2/40\n",
            "1500/1500 [==============================] - 15s 10ms/step - loss: 0.6445 - accuracy: 0.7959 - val_loss: 0.3481 - val_accuracy: 0.8963 - lr: 1.0000e-04\n",
            "Epoch 3/40\n",
            "1500/1500 [==============================] - 14s 10ms/step - loss: 0.4379 - accuracy: 0.8661 - val_loss: 0.2500 - val_accuracy: 0.9262 - lr: 1.0000e-04\n",
            "Epoch 4/40\n",
            "1500/1500 [==============================] - 19s 12ms/step - loss: 0.3410 - accuracy: 0.8969 - val_loss: 0.2062 - val_accuracy: 0.9372 - lr: 1.0000e-04\n",
            "Epoch 5/40\n",
            "1500/1500 [==============================] - 17s 12ms/step - loss: 0.2888 - accuracy: 0.9133 - val_loss: 0.1789 - val_accuracy: 0.9447 - lr: 1.0000e-04\n",
            "Epoch 6/40\n",
            "1500/1500 [==============================] - 17s 12ms/step - loss: 0.2557 - accuracy: 0.9232 - val_loss: 0.1618 - val_accuracy: 0.9481 - lr: 1.0000e-04\n",
            "Epoch 7/40\n",
            "1500/1500 [==============================] - 15s 10ms/step - loss: 0.2276 - accuracy: 0.9308 - val_loss: 0.1510 - val_accuracy: 0.9522 - lr: 1.0000e-04\n",
            "Epoch 8/40\n",
            "1500/1500 [==============================] - 17s 11ms/step - loss: 0.2100 - accuracy: 0.9359 - val_loss: 0.1385 - val_accuracy: 0.9556 - lr: 1.0000e-04\n",
            "Epoch 9/40\n",
            "1500/1500 [==============================] - 17s 11ms/step - loss: 0.1976 - accuracy: 0.9399 - val_loss: 0.1299 - val_accuracy: 0.9585 - lr: 1.0000e-04\n",
            "Epoch 10/40\n",
            "1500/1500 [==============================] - 17s 11ms/step - loss: 0.1845 - accuracy: 0.9434 - val_loss: 0.1254 - val_accuracy: 0.9597 - lr: 1.0000e-04\n",
            "Epoch 11/40\n",
            "1500/1500 [==============================] - 15s 10ms/step - loss: 0.1767 - accuracy: 0.9470 - val_loss: 0.1186 - val_accuracy: 0.9619 - lr: 1.0000e-04\n",
            "Epoch 12/40\n",
            "1500/1500 [==============================] - 15s 10ms/step - loss: 0.1695 - accuracy: 0.9495 - val_loss: 0.1135 - val_accuracy: 0.9638 - lr: 1.0000e-04\n",
            "Epoch 13/40\n",
            "1500/1500 [==============================] - 17s 11ms/step - loss: 0.1608 - accuracy: 0.9520 - val_loss: 0.1128 - val_accuracy: 0.9632 - lr: 1.0000e-04\n",
            "Epoch 14/40\n",
            "1500/1500 [==============================] - 15s 10ms/step - loss: 0.1552 - accuracy: 0.9534 - val_loss: 0.1048 - val_accuracy: 0.9668 - lr: 1.0000e-04\n",
            "Epoch 15/40\n",
            "1500/1500 [==============================] - 17s 11ms/step - loss: 0.1466 - accuracy: 0.9560 - val_loss: 0.1036 - val_accuracy: 0.9677 - lr: 1.0000e-04\n",
            "Epoch 16/40\n",
            "1500/1500 [==============================] - 17s 11ms/step - loss: 0.1449 - accuracy: 0.9562 - val_loss: 0.1020 - val_accuracy: 0.9678 - lr: 1.0000e-04\n",
            "Epoch 17/40\n",
            "1500/1500 [==============================] - 15s 10ms/step - loss: 0.1385 - accuracy: 0.9579 - val_loss: 0.1006 - val_accuracy: 0.9681 - lr: 1.0000e-04\n",
            "Epoch 18/40\n",
            "1500/1500 [==============================] - 15s 10ms/step - loss: 0.1351 - accuracy: 0.9590 - val_loss: 0.0983 - val_accuracy: 0.9687 - lr: 1.0000e-04\n",
            "Epoch 19/40\n",
            "1500/1500 [==============================] - 15s 10ms/step - loss: 0.1323 - accuracy: 0.9603 - val_loss: 0.0983 - val_accuracy: 0.9689 - lr: 1.0000e-04\n",
            "Epoch 20/40\n",
            "1500/1500 [==============================] - 17s 11ms/step - loss: 0.1273 - accuracy: 0.9609 - val_loss: 0.0955 - val_accuracy: 0.9702 - lr: 1.0000e-04\n",
            "Epoch 21/40\n",
            "1500/1500 [==============================] - 17s 11ms/step - loss: 0.1213 - accuracy: 0.9634 - val_loss: 0.0923 - val_accuracy: 0.9713 - lr: 1.0000e-04\n",
            "Epoch 22/40\n",
            "1500/1500 [==============================] - 15s 10ms/step - loss: 0.1192 - accuracy: 0.9637 - val_loss: 0.0902 - val_accuracy: 0.9714 - lr: 1.0000e-04\n",
            "Epoch 23/40\n",
            "1500/1500 [==============================] - 15s 10ms/step - loss: 0.1190 - accuracy: 0.9639 - val_loss: 0.0896 - val_accuracy: 0.9718 - lr: 1.0000e-04\n",
            "Epoch 24/40\n",
            "1500/1500 [==============================] - 15s 10ms/step - loss: 0.1164 - accuracy: 0.9646 - val_loss: 0.0918 - val_accuracy: 0.9706 - lr: 1.0000e-04\n",
            "Epoch 25/40\n",
            "1500/1500 [==============================] - 15s 10ms/step - loss: 0.1127 - accuracy: 0.9657 - val_loss: 0.0876 - val_accuracy: 0.9723 - lr: 1.0000e-04\n",
            "Epoch 26/40\n",
            "1500/1500 [==============================] - 17s 11ms/step - loss: 0.1116 - accuracy: 0.9655 - val_loss: 0.0883 - val_accuracy: 0.9719 - lr: 1.0000e-04\n",
            "Epoch 27/40\n",
            "1500/1500 [==============================] - 17s 11ms/step - loss: 0.1097 - accuracy: 0.9671 - val_loss: 0.0852 - val_accuracy: 0.9732 - lr: 1.0000e-04\n",
            "Epoch 28/40\n",
            "1500/1500 [==============================] - 17s 11ms/step - loss: 0.1060 - accuracy: 0.9681 - val_loss: 0.0851 - val_accuracy: 0.9733 - lr: 1.0000e-04\n",
            "Epoch 29/40\n",
            "1500/1500 [==============================] - 15s 10ms/step - loss: 0.1047 - accuracy: 0.9678 - val_loss: 0.0835 - val_accuracy: 0.9737 - lr: 1.0000e-04\n",
            "Epoch 30/40\n",
            "1500/1500 [==============================] - 15s 10ms/step - loss: 0.1026 - accuracy: 0.9689 - val_loss: 0.0848 - val_accuracy: 0.9722 - lr: 1.0000e-04\n",
            "Epoch 31/40\n",
            "1500/1500 [==============================] - 15s 10ms/step - loss: 0.1008 - accuracy: 0.9691 - val_loss: 0.0835 - val_accuracy: 0.9743 - lr: 1.0000e-04\n",
            "Epoch 32/40\n",
            "1500/1500 [==============================] - 17s 11ms/step - loss: 0.0994 - accuracy: 0.9699 - val_loss: 0.0841 - val_accuracy: 0.9732 - lr: 1.0000e-04\n",
            "Epoch 33/40\n",
            "1500/1500 [==============================] - 15s 10ms/step - loss: 0.0975 - accuracy: 0.9700 - val_loss: 0.0800 - val_accuracy: 0.9757 - lr: 1.0000e-04\n",
            "Epoch 34/40\n",
            "1500/1500 [==============================] - 17s 11ms/step - loss: 0.0966 - accuracy: 0.9698 - val_loss: 0.0834 - val_accuracy: 0.9736 - lr: 1.0000e-04\n",
            "Epoch 35/40\n",
            "1500/1500 [==============================] - 15s 10ms/step - loss: 0.0953 - accuracy: 0.9707 - val_loss: 0.0826 - val_accuracy: 0.9740 - lr: 1.0000e-04\n",
            "Epoch 36/40\n",
            "1500/1500 [==============================] - 15s 10ms/step - loss: 0.0953 - accuracy: 0.9707 - val_loss: 0.0849 - val_accuracy: 0.9722 - lr: 1.0000e-04\n",
            "Epoch 37/40\n",
            "1500/1500 [==============================] - 15s 10ms/step - loss: 0.0914 - accuracy: 0.9725 - val_loss: 0.0787 - val_accuracy: 0.9755 - lr: 1.0000e-04\n",
            "Epoch 38/40\n",
            "1500/1500 [==============================] - 15s 10ms/step - loss: 0.0904 - accuracy: 0.9727 - val_loss: 0.0817 - val_accuracy: 0.9737 - lr: 1.0000e-04\n",
            "Epoch 39/40\n",
            "1500/1500 [==============================] - 15s 10ms/step - loss: 0.0873 - accuracy: 0.9724 - val_loss: 0.0765 - val_accuracy: 0.9767 - lr: 1.0000e-04\n",
            "Epoch 40/40\n",
            "1500/1500 [==============================] - 15s 10ms/step - loss: 0.0867 - accuracy: 0.9730 - val_loss: 0.0823 - val_accuracy: 0.9744 - lr: 1.0000e-04\n",
            "313/313 [==============================] - 3s 10ms/step - loss: 0.0749 - accuracy: 0.9772\n",
            "Test accuracy: 0.9771999716758728\n"
          ]
        }
      ],
      "source": [
        "# Train the model without data augmentation\n",
        "history = model.fit(x_train, y_train,\n",
        "                    epochs=40,\n",
        "                    validation_data=(x_val, y_val),\n",
        "                    callbacks=[reduce_lr, early_stop])\n",
        "\n",
        "# Evaluate the model\n",
        "test_loss, test_acc = model.evaluate(x_test, y_test)\n",
        "print(f'Test accuracy: {test_acc}')"
      ]
    },
    {
      "cell_type": "code",
      "execution_count": 14,
      "metadata": {
        "id": "jOptI351IKKE",
        "colab": {
          "base_uri": "https://localhost:8080/",
          "height": 410
        },
        "outputId": "a2995bce-5ee9-491f-8131-3a2511ed80d9"
      },
      "outputs": [
        {
          "output_type": "display_data",
          "data": {
            "text/plain": [
              "<Figure size 1200x400 with 2 Axes>"
            ],
            "image/png": "[encoded data removed]"
          },
          "metadata": {}
        }
      ],
      "source": [
        "import matplotlib.pyplot as plt\n",
        "\n",
        "\n",
        "# Побудова графіків для точності\n",
        "plt.figure(figsize=(12, 4))\n",
        "plt.subplot(1, 2, 1)\n",
        "plt.plot(history.history['accuracy'], label='Train Accuracy')\n",
        "plt.plot(history.history['val_accuracy'], label='Validation Accuracy')\n",
        "plt.title('Training and Validation Accuracy')\n",
        "plt.xlabel('Epoch')\n",
        "plt.ylabel('Accuracy')\n",
        "plt.legend()\n",
        "\n",
        "# Побудова графіків для втрат\n",
        "plt.subplot(1, 2, 2)\n",
        "plt.plot(history.history['loss'], label='Train Loss')\n",
        "plt.plot(history.history['val_loss'], label='Validation Loss')\n",
        "plt.title('Training and Validation Loss')\n",
        "plt.xlabel('Epoch')\n",
        "plt.ylabel('Loss')\n",
        "plt.legend()\n",
        "\n",
        "plt.show()"
      ]
    },
    {
      "cell_type": "markdown",
      "source": [
        "**Висновки:**\n",
        "\n",
        "- Точність моделі: Після 40 епох тренування, модель досягла тестової точності 97.72%. Це дуже хороший результат для класифікації зображень з набору даних MNIST.\n",
        "\n",
        "- Навчання та валідація: З плином епох, валідаційна точність поступово збільшувалася, а втрата зменшувалася, що свідчить про стабільне навчання без значного перенавчання.\n",
        "\n",
        "- Підхід до навчання: Використання попередньо навченої моделі VGG16 для екстракції ознак, а потім навчання додаткових шарів для класифікації дозволило досягти високої точності на відносно невеликому наборі даних.\n"
      ],
      "metadata": {
        "id": "nKgoOQS83xOa"
      }
    },
    {
      "cell_type": "markdown",
      "source": [
        "**Рекомендації**\n",
        "\n",
        "- Додаткові епохи: Можна спробувати тренувати модель більше 40 епох, щоб побачити, чи можливо ще більше покращити результати.\n",
        "\n",
        "- Зміна навчальної швидкості: Можна експериментувати з іншими значеннями швидкості навчання та схемами її зміни.\n",
        "\n",
        "- Регуляризація: Якщо б з'явилися ознаки перенавчання, варто розглянути додаткові методи регуляризації, такі як L2-регуляризація чи збільшення коефіцієнта дропауту.\n",
        "\n",
        "- Аугментація даних: Для подальшого покращення генералізації, можна спробувати додати аугментацію даних, що може збільшити розмір і різноманітність тренувального набору даних."
      ],
      "metadata": {
        "id": "vG2d-9CZ4L7A"
      }
    }
  ],
  "metadata": {
    "accelerator": "GPU",
    "colab": {
      "gpuType": "T4",
      "provenance": [],
      "authorship_tag": "ABX9TyPozYeJyFgEcPVgLBgXri1I",
      "include_colab_link": true
    },
    "kernelspec": {
      "display_name": "Python 3",
      "name": "python3"
    },
    "language_info": {
      "name": "python"
    }
  },
  "nbformat": 4,
  "nbformat_minor": 0
}