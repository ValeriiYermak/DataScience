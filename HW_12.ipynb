{
  "nbformat": 4,
  "nbformat_minor": 0,
  "metadata": {
    "colab": {
      "provenance": [],
      "gpuType": "T4",
      "authorship_tag": "ABX9TyOp94kZMo66d2d/YDBKPT7b",
      "include_colab_link": true
    },
    "kernelspec": {
      "name": "python3",
      "display_name": "Python 3"
    },
    "language_info": {
      "name": "python"
    },
    "accelerator": "GPU"
  },
  "cells": [
    {
      "cell_type": "markdown",
      "metadata": {
        "id": "view-in-github",
        "colab_type": "text"
      },
      "source": [
        "<a href=\"https://colab.research.google.com/github/ValeriiYermak/DataScience/blob/main/HW_12.ipynb\" target=\"_parent\"><img src=\"https://colab.research.google.com/assets/colab-badge.svg\" alt=\"Open In Colab\"/></a>"
      ]
    },
    {
      "cell_type": "code",
      "execution_count": 12,
      "metadata": {
        "colab": {
          "base_uri": "https://localhost:8080/"
        },
        "id": "A7pmWZ6lUtyX",
        "outputId": "a403605e-47f2-4c89-8f78-d2a7949add18"
      },
      "outputs": [
        {
          "output_type": "stream",
          "name": "stdout",
          "text": [
            "\n",
            "NLTK Summary:\n",
            "\n",
            "\n",
            "The Orbiter Discovery, OV-103, is considered eligible for listing in the National Register of Historic Places (NRHP)\n",
            "in the context of the U.S. Space Shuttle Program (1969-2011) under Criterion A in the areas of Space Exploration and\n",
            "Transportation and under Criterion C in the area of Engineering. Because it has achieved significance within the past fifty\n",
            "years, Criteria Consideration G applies. Under Criterion A, Discovery is significant as the oldest of the three extant orbiter\n",
            "vehicles constructed for the Space Shuttle Program (SSP), the longest running American space program to date; she was the third\n",
            "of five orbiters built by NASA.\n"
          ]
        },
        {
          "output_type": "stream",
          "name": "stderr",
          "text": [
            "[nltk_data] Downloading package punkt to /root/nltk_data...\n",
            "[nltk_data]   Package punkt is already up-to-date!\n",
            "[nltk_data] Downloading package stopwords to /root/nltk_data...\n",
            "[nltk_data]   Package stopwords is already up-to-date!\n"
          ]
        }
      ],
      "source": [
        "import nltk\n",
        "from nltk.tokenize import sent_tokenize, word_tokenize\n",
        "from nltk.corpus import stopwords\n",
        "from nltk.probability import FreqDist\n",
        "from string import punctuation\n",
        "\n",
        "# Завантаження необхідного ресурсу\n",
        "nltk.download('punkt')\n",
        "nltk.download('stopwords')\n",
        "\n",
        "# Задаємо текст\n",
        "text = \"\"\"\n",
        "The Orbiter Discovery, OV-103, is considered eligible for listing in the National Register of Historic Places (NRHP)\n",
        "in the context of the U.S. Space Shuttle Program (1969-2011) under Criterion A in the areas of Space Exploration and\n",
        "Transportation and under Criterion C in the area of Engineering. Because it has achieved significance within the past fifty\n",
        "years, Criteria Consideration G applies. Under Criterion A, Discovery is significant as the oldest of the three extant orbiter\n",
        "vehicles constructed for the Space Shuttle Program (SSP), the longest running American space program to date; she was the third\n",
        "of five orbiters built by NASA. Unlike the Mercury, Gemini, and Apollo programs, the SSP’s emphasis was on cost effectiveness\n",
        "and reusability, and eventually the construction of a space station. Including her maiden voyage (launched August 30, 1984),\n",
        "Discovery flew to space thirty-nine times, more than any of the other four orbiters; she was also the first orbiter to fly twenty\n",
        "missions. She had the honor of being chosen as the Return to Flight vehicle after both the Challenger and Columbia accidents.\n",
        "Discovery was the first shuttle to fly with the redesigned SRBs, a result of the Challenger accident, and the first shuttle to\n",
        "fly with the Phase II and Block I SSME. Discovery also carried the Hubble Space Telescope to orbit and performed two of the five\n",
        "servicing missions to the observatory. She flew the first and last dedicated Department of Defense (DoD) missions, as well as the\n",
        "first unclassified defense-related mission. In addition, Discovery was vital to the construction of the International Space Station\n",
        "(ISS); she flew thirteen of the thirty-seven total missions flown to the station by a U.S. Space Shuttle. She was the first orbiter\n",
        "to dock to the ISS, and the first to perform an exchange of a resident crew. Under Criterion C, Discovery is significant as a feat\n",
        "of engineering. According to Wayne Hale, a flight director from Johnson Space Center, the Space Shuttle orbiter represents a “huge\n",
        "technological leap from expendable rockets and capsules to a reusable, winged, hypersonic, cargo-carrying spacecraft.” Although her\n",
        "base structure followed a conventional aircraft design, she used advanced materials that both minimized her weight for cargo-carrying\n",
        "purposes and featured low thermal expansion ratios, which provided a stable base for her Thermal Protection System (TPS) materials.\n",
        "The Space Shuttle orbiter also featured the first reusable TPS; all previous spaceflight vehicles had a single-use, ablative heat\n",
        "shield. Other notable engineering achievements of the orbiter included the first reusable orbital propulsion system, and the first\n",
        "two-fault-tolerant Integrated Avionics System. As Hale stated, the Space Shuttle remains “the largest, fastest, winged hypersonic\n",
        "aircraft in history,” having regularly flown at twenty-five times the speed of sound.\n",
        "\"\"\"\n",
        "\n",
        "# Токенізація\n",
        "sentences = sent_tokenize(text)\n",
        "words = word_tokenize(text.lower())\n",
        "\n",
        "# Видалення стоп-слів та пунктуації\n",
        "stop_words = set(stopwords.words('english') + list(punctuation))\n",
        "filtered_words = [word for word in words if word not in stop_words]\n",
        "\n",
        "# Частотний розподіл слів\n",
        "freq_dist = FreqDist(filtered_words)\n",
        "\n",
        "# Вибір ключових речень для резюме\n",
        "important_sentences = [sentence for sentence in sentences if any(word in sentence.lower() for word in freq_dist.keys())]\n",
        "\n",
        "# Формування резюме\n",
        "summary_nltk = ' '.join(important_sentences[:3])\n",
        "print(\"\\nNLTK Summary:\\n\")\n",
        "print(summary_nltk)\n"
      ]
    },
    {
      "cell_type": "code",
      "source": [
        "import spacy\n",
        "\n",
        "# Завантаження моделі SpaCy\n",
        "nlp = spacy.load('en_core_web_sm')\n",
        "\n",
        "# Задаємо текст\n",
        "text = \"\"\"\n",
        "The Orbiter Discovery, OV-103, is considered eligible for listing in the National Register of Historic Places (NRHP)\n",
        "in the context of the U.S. Space Shuttle Program (1969-2011) under Criterion A in the areas of Space Exploration and\n",
        "Transportation and under Criterion C in the area of Engineering. Because it has achieved significance within the past fifty\n",
        "years, Criteria Consideration G applies. Under Criterion A, Discovery is significant as the oldest of the three extant orbiter\n",
        "vehicles constructed for the Space Shuttle Program (SSP), the longest running American space program to date; she was the third\n",
        "of five orbiters built by NASA. Unlike the Mercury, Gemini, and Apollo programs, the SSP’s emphasis was on cost effectiveness\n",
        "and reusability, and eventually the construction of a space station. Including her maiden voyage (launched August 30, 1984),\n",
        "Discovery flew to space thirty-nine times, more than any of the other four orbiters; she was also the first orbiter to fly twenty\n",
        "missions. She had the honor of being chosen as the Return to Flight vehicle after both the Challenger and Columbia accidents.\n",
        "Discovery was the first shuttle to fly with the redesigned SRBs, a result of the Challenger accident, and the first shuttle to\n",
        "fly with the Phase II and Block I SSME. Discovery also carried the Hubble Space Telescope to orbit and performed two of the five\n",
        "servicing missions to the observatory. She flew the first and last dedicated Department of Defense (DoD) missions, as well as the\n",
        "first unclassified defense-related mission. In addition, Discovery was vital to the construction of the International Space Station\n",
        "(ISS); she flew thirteen of the thirty-seven total missions flown to the station by a U.S. Space Shuttle. She was the first orbiter\n",
        "to dock to the ISS, and the first to perform an exchange of a resident crew. Under Criterion C, Discovery is significant as a feat\n",
        "of engineering. According to Wayne Hale, a flight director from Johnson Space Center, the Space Shuttle orbiter represents a “huge\n",
        "technological leap from expendable rockets and capsules to a reusable, winged, hypersonic, cargo-carrying spacecraft.” Although her\n",
        "base structure followed a conventional aircraft design, she used advanced materials that both minimized her weight for cargo-carrying\n",
        "purposes and featured low thermal expansion ratios, which provided a stable base for her Thermal Protection System (TPS) materials.\n",
        "The Space Shuttle orbiter also featured the first reusable TPS; all previous spaceflight vehicles had a single-use, ablative heat\n",
        "shield. Other notable engineering achievements of the orbiter included the first reusable orbital propulsion system, and the first\n",
        "two-fault-tolerant Integrated Avionics System. As Hale stated, the Space Shuttle remains “the largest, fastest, winged hypersonic\n",
        "aircraft in history,” having regularly flown at twenty-five times the speed of sound.\n",
        "\"\"\"\n",
        "\n",
        "# Аналіз тексту\n",
        "doc = nlp(text)\n",
        "\n",
        "# Частотний розподіл слів (створений раніше у прикладі NLTK)\n",
        "filtered_words = [token.text for token in doc if token.text.lower() not in spacy.lang.en.stop_words.STOP_WORDS and not token.is_punct]\n",
        "\n",
        "# Вибір важливих речень для резюме\n",
        "important_sentences = [sent.text for sent in doc.sents if any(word in sent.text.lower() for word in filtered_words)]\n",
        "\n",
        "# Формування резюме\n",
        "summary_spacy = ' '.join(important_sentences[:3])\n",
        "print(\"\\nSpaCy Summary:\\n\")\n",
        "print(summary_spacy)\n"
      ],
      "metadata": {
        "colab": {
          "base_uri": "https://localhost:8080/"
        },
        "id": "vs9slPlvWttY",
        "outputId": "627cd013-468d-405d-901e-5317e15f3777"
      },
      "execution_count": 13,
      "outputs": [
        {
          "output_type": "stream",
          "name": "stdout",
          "text": [
            "\n",
            "SpaCy Summary:\n",
            "\n",
            "\n",
            "The Orbiter Discovery, OV-103, is considered eligible for listing in the National Register of Historic Places (NRHP)\n",
            "in the context of the U.S. Space Shuttle Program (1969-2011) under Criterion A in the areas of Space Exploration and\n",
            "Transportation and under Criterion C in the area of Engineering. Because it has achieved significance within the past fifty\n",
            "years, Criteria Consideration G applies. Under Criterion A, Discovery is significant as the oldest of the three extant orbiter\n",
            "vehicles constructed for the Space Shuttle Program (SSP), the longest running American space program to date; she was the third\n",
            "of five orbiters built by NASA.\n"
          ]
        }
      ]
    }
  ]
}